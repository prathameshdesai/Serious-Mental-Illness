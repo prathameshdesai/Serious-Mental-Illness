{
 "cells": [
  {
   "cell_type": "markdown",
   "metadata": {},
   "source": [
    "# Project Report"
   ]
  },
  {
   "cell_type": "markdown",
   "metadata": {},
   "source": [
    "#### Team 1: Prathamesh Desai, Alisa Hartle"
   ]
  },
  {
   "cell_type": "markdown",
   "metadata": {},
   "source": [
    "This notebook outlines the procedures in our machine learning project dedicated to predicting serious mental illness using the New York State Office of Mental Health patient survey data. \n",
    "\n",
    "Serious mental illness is a subset of mental illness. According to the [National Institute of Mental Health](https://www.nimh.nih.gov/health/statistics/mental-illness.shtml), “Serious mental illness (SMI) is defined as a mental, behavioral, or emotional disorder resulting in serious functional impairment, which substantially interferes with or limits one or more major life activities.” This includes conditions such as major depression, schizophrenia, and bipolar disorder. \n",
    "\n",
    "In New York State, its estimated [3.6%](https://www.rtor.org/directory/mental-health-new-york/) of its 19 million residents have a serious mental illness. But only 40.1% of people with serious mental illness receive treatment, and it’s believed those who are not in treatment are unaware of their condition. With 77% of people in treatment saying it helped, it seems overall treatment is beneficial to those who need it, and the biggest area of improvement is diagnosing people who may be unaware of their condition.\n",
    "\n",
    "There are many consequences of not getting treatment for people with serious mental illness. Not treating a serious mental illness can increase the likelihood of homelessness. It’s also estimated that approximately one quarter of persons with serious mental illness are victimized in some way each year. Persons with mental illness can also be a harm to others: they are responsible for [29% of familial homicides](https://www.treatmentadvocacycenter.org/key-issues/consequences-of-non-treatment). One of the biggest risks is suicide: up to [50% of persons](https://www.treatmentadvocacycenter.org/key-issues/consequences-of-non-treatment) with bipolar disorder or schizophrenia attempt suicide at some point in their lives. Finally, persons with untreated SMI often end up in suboptimal places for treatment such as prison--its estimated 20% of the prison population has a serious mental illness, and that this costs [New York State](https://www.bhecon.org/wp-content/uploads/2018/01/NY-Chartbook-2018_FINAL.pdf) over $500 million annually.\n",
    "\n",
    "We set out on this project hoping that our model can be used by doctors and healthcare practitioners to make initial diagnosis. Mental health issues are hard to diagnose and people often conceal their issues due to stigma associated with it. This can result in not only poor mental health outcomes, but also unfortunate life outcomes if not identified early on.\n",
    "\n"
   ]
  },
  {
   "cell_type": "markdown",
   "metadata": {},
   "source": [
    "## Loading the Dataset"
   ]
  },
  {
   "cell_type": "code",
   "execution_count": 1,
   "metadata": {},
   "outputs": [],
   "source": [
    "import pandas as pd\n",
    "import warnings\n",
    "warnings.filterwarnings(\"ignore\")\n",
    "pd.options.display.max_seq_items = 2000\n",
    "pd.set_option('display.max_columns', 10000)\n",
    "\n",
    "import numpy as np\n",
    "from sklearn.feature_selection import SelectKBest\n",
    "from sklearn.feature_selection import chi2"
   ]
  },
  {
   "cell_type": "markdown",
   "metadata": {},
   "source": [
    "## Reading and Exploring the Data"
   ]
  },
  {
   "cell_type": "code",
   "execution_count": 2,
   "metadata": {},
   "outputs": [],
   "source": [
    "\n",
    "nys_omh = pd.read_csv('patient-characteristics-survey-pcs-2015.csv')"
   ]
  },
  {
   "cell_type": "code",
   "execution_count": 3,
   "metadata": {
    "scrolled": true
   },
   "outputs": [
    {
     "data": {
      "text/html": [
       "<div>\n",
       "<style scoped>\n",
       "    .dataframe tbody tr th:only-of-type {\n",
       "        vertical-align: middle;\n",
       "    }\n",
       "\n",
       "    .dataframe tbody tr th {\n",
       "        vertical-align: top;\n",
       "    }\n",
       "\n",
       "    .dataframe thead th {\n",
       "        text-align: right;\n",
       "    }\n",
       "</style>\n",
       "<table border=\"1\" class=\"dataframe\">\n",
       "  <thead>\n",
       "    <tr style=\"text-align: right;\">\n",
       "      <th></th>\n",
       "      <th>Survey Year</th>\n",
       "      <th>Program Category</th>\n",
       "      <th>Region Served</th>\n",
       "      <th>Age Group</th>\n",
       "      <th>Sex</th>\n",
       "      <th>Transgender</th>\n",
       "      <th>Sexual Orientation</th>\n",
       "      <th>Hispanic Ethnicity</th>\n",
       "      <th>Race</th>\n",
       "      <th>Living Situation</th>\n",
       "      <th>Household Composition</th>\n",
       "      <th>Preferred Language</th>\n",
       "      <th>Veteran Status</th>\n",
       "      <th>Employment Status</th>\n",
       "      <th>Number Of Hours Worked Each Week</th>\n",
       "      <th>Education Status</th>\n",
       "      <th>Special Education Services</th>\n",
       "      <th>Mental Illness</th>\n",
       "      <th>Intellectual Disability</th>\n",
       "      <th>Autism Spectrum</th>\n",
       "      <th>Other Developmental Disability</th>\n",
       "      <th>Alcohol Related Disorder</th>\n",
       "      <th>Drug Substance Disorder</th>\n",
       "      <th>Mobility Impairment Disorder</th>\n",
       "      <th>Hearing Visual Impairment</th>\n",
       "      <th>Hyperlipidemia</th>\n",
       "      <th>High Blood Pressure</th>\n",
       "      <th>Diabetes</th>\n",
       "      <th>Obesity</th>\n",
       "      <th>Heart Attack</th>\n",
       "      <th>Stroke</th>\n",
       "      <th>Other Cardiac</th>\n",
       "      <th>Pulmonary Asthma</th>\n",
       "      <th>Alzheimer or Dementia</th>\n",
       "      <th>Kidney Disease</th>\n",
       "      <th>Liver Disease</th>\n",
       "      <th>Endocrine Condition</th>\n",
       "      <th>Neurological Condition</th>\n",
       "      <th>Traumatic Brain Injury</th>\n",
       "      <th>Joint Disease</th>\n",
       "      <th>Cancer</th>\n",
       "      <th>Other Chronic Med Condition</th>\n",
       "      <th>No Chronic Med Condition</th>\n",
       "      <th>Unknown Chronic Med Condition</th>\n",
       "      <th>Smokes</th>\n",
       "      <th>Received Smoking Medication</th>\n",
       "      <th>Received Smoking Counseling</th>\n",
       "      <th>Serious Mental Illness</th>\n",
       "      <th>Principal Diagnosis Class</th>\n",
       "      <th>Additional Diagnosis Class</th>\n",
       "      <th>SSI Cash Assistance</th>\n",
       "      <th>SSDI Cash Assistance</th>\n",
       "      <th>Veterans Disability Benefits</th>\n",
       "      <th>Veterans Cash Assistance</th>\n",
       "      <th>Public Assistance Cash Program</th>\n",
       "      <th>Other Cash Benefits</th>\n",
       "      <th>Medicaid and Medicare Insurance</th>\n",
       "      <th>No Insurance</th>\n",
       "      <th>Unknown Insurance Coverage</th>\n",
       "      <th>Medicaid Insurance</th>\n",
       "      <th>Medicaid Managed Insurance</th>\n",
       "      <th>Medicare Insurance</th>\n",
       "      <th>Private Insurance</th>\n",
       "      <th>Child Health Plus Insurance</th>\n",
       "      <th>Other Insurance</th>\n",
       "      <th>Criminal Justice Status</th>\n",
       "      <th>Three Digit Residence Zip Code</th>\n",
       "    </tr>\n",
       "  </thead>\n",
       "  <tbody>\n",
       "    <tr>\n",
       "      <th>0</th>\n",
       "      <td>2015</td>\n",
       "      <td>INPATIENT</td>\n",
       "      <td>HUDSON RIVER REGION</td>\n",
       "      <td>ADULT</td>\n",
       "      <td>MALE</td>\n",
       "      <td>NO, NOT TRANSGENDER</td>\n",
       "      <td>STRAIGHT OR HETEROSEXUAL</td>\n",
       "      <td>YES</td>\n",
       "      <td>OTHER</td>\n",
       "      <td>OTHER LIVING SITUATION</td>\n",
       "      <td>NOT APPLICABLE</td>\n",
       "      <td>ENGLISH</td>\n",
       "      <td>NO</td>\n",
       "      <td>NOT IN LABOR FORCE:UNEMPLOYED AND NOT LOOKING ...</td>\n",
       "      <td>NOT APPLICABLE</td>\n",
       "      <td>MIDDLE SCHOOL TO HIGH SCHOOL</td>\n",
       "      <td>NOT APPLICABLE</td>\n",
       "      <td>YES</td>\n",
       "      <td>NO</td>\n",
       "      <td>NO</td>\n",
       "      <td>NO</td>\n",
       "      <td>YES</td>\n",
       "      <td>YES</td>\n",
       "      <td>NO</td>\n",
       "      <td>NO</td>\n",
       "      <td>NO</td>\n",
       "      <td>NO</td>\n",
       "      <td>NO</td>\n",
       "      <td>NO</td>\n",
       "      <td>NO</td>\n",
       "      <td>NO</td>\n",
       "      <td>NO</td>\n",
       "      <td>YES</td>\n",
       "      <td>NO</td>\n",
       "      <td>NO</td>\n",
       "      <td>NO</td>\n",
       "      <td>NO</td>\n",
       "      <td>NO</td>\n",
       "      <td>NO</td>\n",
       "      <td>NO</td>\n",
       "      <td>NO</td>\n",
       "      <td>NO</td>\n",
       "      <td>NO</td>\n",
       "      <td>NO</td>\n",
       "      <td>NO</td>\n",
       "      <td>NO</td>\n",
       "      <td>NO</td>\n",
       "      <td>YES</td>\n",
       "      <td>MENTAL ILLNESS</td>\n",
       "      <td>UNKNOWN</td>\n",
       "      <td>NO</td>\n",
       "      <td>NO</td>\n",
       "      <td>NO</td>\n",
       "      <td>NO</td>\n",
       "      <td>NO</td>\n",
       "      <td>NO</td>\n",
       "      <td>NO</td>\n",
       "      <td>NO</td>\n",
       "      <td>NO</td>\n",
       "      <td>YES</td>\n",
       "      <td>NO</td>\n",
       "      <td>NO</td>\n",
       "      <td>NO</td>\n",
       "      <td>NO</td>\n",
       "      <td>NO</td>\n",
       "      <td>YES</td>\n",
       "      <td>113</td>\n",
       "    </tr>\n",
       "    <tr>\n",
       "      <th>1</th>\n",
       "      <td>2015</td>\n",
       "      <td>INPATIENT</td>\n",
       "      <td>NEW YORK CITY REGION</td>\n",
       "      <td>ADULT</td>\n",
       "      <td>MALE</td>\n",
       "      <td>NO, NOT TRANSGENDER</td>\n",
       "      <td>STRAIGHT OR HETEROSEXUAL</td>\n",
       "      <td>NO, NOT HISPANIC/LATINO</td>\n",
       "      <td>WHITE ONLY</td>\n",
       "      <td>INSTITUTIONAL SETTING</td>\n",
       "      <td>NOT APPLICABLE</td>\n",
       "      <td>ENGLISH</td>\n",
       "      <td>NO</td>\n",
       "      <td>NOT IN LABOR FORCE:UNEMPLOYED AND NOT LOOKING ...</td>\n",
       "      <td>NOT APPLICABLE</td>\n",
       "      <td>COLLEGE OR GRADUATE DEGREE</td>\n",
       "      <td>NOT APPLICABLE</td>\n",
       "      <td>YES</td>\n",
       "      <td>NO</td>\n",
       "      <td>NO</td>\n",
       "      <td>NO</td>\n",
       "      <td>NO</td>\n",
       "      <td>YES</td>\n",
       "      <td>NO</td>\n",
       "      <td>NO</td>\n",
       "      <td>NO</td>\n",
       "      <td>NO</td>\n",
       "      <td>NO</td>\n",
       "      <td>NO</td>\n",
       "      <td>NO</td>\n",
       "      <td>NO</td>\n",
       "      <td>NO</td>\n",
       "      <td>NO</td>\n",
       "      <td>NO</td>\n",
       "      <td>NO</td>\n",
       "      <td>NO</td>\n",
       "      <td>NO</td>\n",
       "      <td>NO</td>\n",
       "      <td>NO</td>\n",
       "      <td>NO</td>\n",
       "      <td>NO</td>\n",
       "      <td>YES</td>\n",
       "      <td>NO</td>\n",
       "      <td>NO</td>\n",
       "      <td>NO</td>\n",
       "      <td>NO</td>\n",
       "      <td>NO</td>\n",
       "      <td>YES</td>\n",
       "      <td>MENTAL ILLNESS</td>\n",
       "      <td>UNKNOWN</td>\n",
       "      <td>YES</td>\n",
       "      <td>NO</td>\n",
       "      <td>NO</td>\n",
       "      <td>NO</td>\n",
       "      <td>UNKNOWN</td>\n",
       "      <td>UNKNOWN</td>\n",
       "      <td>UNKNOWN</td>\n",
       "      <td>NO</td>\n",
       "      <td>NO</td>\n",
       "      <td>YES</td>\n",
       "      <td>NO</td>\n",
       "      <td>UNKNOWN</td>\n",
       "      <td>NO</td>\n",
       "      <td>NO</td>\n",
       "      <td>UNKNOWN</td>\n",
       "      <td>YES</td>\n",
       "      <td>113</td>\n",
       "    </tr>\n",
       "    <tr>\n",
       "      <th>2</th>\n",
       "      <td>2015</td>\n",
       "      <td>INPATIENT</td>\n",
       "      <td>HUDSON RIVER REGION</td>\n",
       "      <td>ADULT</td>\n",
       "      <td>MALE</td>\n",
       "      <td>NO, NOT TRANSGENDER</td>\n",
       "      <td>STRAIGHT OR HETEROSEXUAL</td>\n",
       "      <td>NO, NOT HISPANIC/LATINO</td>\n",
       "      <td>WHITE ONLY</td>\n",
       "      <td>PRIVATE RESIDENCE</td>\n",
       "      <td>COHABITATES WITH OTHERS</td>\n",
       "      <td>ENGLISH</td>\n",
       "      <td>NO</td>\n",
       "      <td>NOT IN LABOR FORCE:UNEMPLOYED AND NOT LOOKING ...</td>\n",
       "      <td>NOT APPLICABLE</td>\n",
       "      <td>COLLEGE OR GRADUATE DEGREE</td>\n",
       "      <td>NOT APPLICABLE</td>\n",
       "      <td>YES</td>\n",
       "      <td>NO</td>\n",
       "      <td>NO</td>\n",
       "      <td>NO</td>\n",
       "      <td>NO</td>\n",
       "      <td>NO</td>\n",
       "      <td>NO</td>\n",
       "      <td>YES</td>\n",
       "      <td>YES</td>\n",
       "      <td>NO</td>\n",
       "      <td>NO</td>\n",
       "      <td>NO</td>\n",
       "      <td>NO</td>\n",
       "      <td>NO</td>\n",
       "      <td>NO</td>\n",
       "      <td>YES</td>\n",
       "      <td>NO</td>\n",
       "      <td>NO</td>\n",
       "      <td>NO</td>\n",
       "      <td>YES</td>\n",
       "      <td>NO</td>\n",
       "      <td>NO</td>\n",
       "      <td>NO</td>\n",
       "      <td>NO</td>\n",
       "      <td>YES</td>\n",
       "      <td>NO</td>\n",
       "      <td>NO</td>\n",
       "      <td>NO</td>\n",
       "      <td>NO</td>\n",
       "      <td>YES</td>\n",
       "      <td>YES</td>\n",
       "      <td>MENTAL ILLNESS</td>\n",
       "      <td>UNKNOWN</td>\n",
       "      <td>NO</td>\n",
       "      <td>NO</td>\n",
       "      <td>NO</td>\n",
       "      <td>NO</td>\n",
       "      <td>NO</td>\n",
       "      <td>NO</td>\n",
       "      <td>NO</td>\n",
       "      <td>NO</td>\n",
       "      <td>NO</td>\n",
       "      <td>YES</td>\n",
       "      <td>NO</td>\n",
       "      <td>NO</td>\n",
       "      <td>NO</td>\n",
       "      <td>NO</td>\n",
       "      <td>NO</td>\n",
       "      <td>YES</td>\n",
       "      <td>107</td>\n",
       "    </tr>\n",
       "    <tr>\n",
       "      <th>3</th>\n",
       "      <td>2015</td>\n",
       "      <td>INPATIENT</td>\n",
       "      <td>NEW YORK CITY REGION</td>\n",
       "      <td>ADULT</td>\n",
       "      <td>FEMALE</td>\n",
       "      <td>NO, NOT TRANSGENDER</td>\n",
       "      <td>STRAIGHT OR HETEROSEXUAL</td>\n",
       "      <td>NO, NOT HISPANIC/LATINO</td>\n",
       "      <td>OTHER</td>\n",
       "      <td>OTHER LIVING SITUATION</td>\n",
       "      <td>NOT APPLICABLE</td>\n",
       "      <td>ASIAN AND PACIFIC ISLAND</td>\n",
       "      <td>NO</td>\n",
       "      <td>NOT IN LABOR FORCE:UNEMPLOYED AND NOT LOOKING ...</td>\n",
       "      <td>NOT APPLICABLE</td>\n",
       "      <td>MIDDLE SCHOOL TO HIGH SCHOOL</td>\n",
       "      <td>NOT APPLICABLE</td>\n",
       "      <td>YES</td>\n",
       "      <td>NO</td>\n",
       "      <td>NO</td>\n",
       "      <td>NO</td>\n",
       "      <td>NO</td>\n",
       "      <td>NO</td>\n",
       "      <td>NO</td>\n",
       "      <td>NO</td>\n",
       "      <td>NO</td>\n",
       "      <td>NO</td>\n",
       "      <td>NO</td>\n",
       "      <td>NO</td>\n",
       "      <td>NO</td>\n",
       "      <td>NO</td>\n",
       "      <td>NO</td>\n",
       "      <td>NO</td>\n",
       "      <td>NO</td>\n",
       "      <td>NO</td>\n",
       "      <td>NO</td>\n",
       "      <td>NO</td>\n",
       "      <td>NO</td>\n",
       "      <td>NO</td>\n",
       "      <td>NO</td>\n",
       "      <td>NO</td>\n",
       "      <td>NO</td>\n",
       "      <td>YES</td>\n",
       "      <td>NO</td>\n",
       "      <td>NO</td>\n",
       "      <td>NO</td>\n",
       "      <td>NO</td>\n",
       "      <td>YES</td>\n",
       "      <td>MENTAL ILLNESS</td>\n",
       "      <td>UNKNOWN</td>\n",
       "      <td>NO</td>\n",
       "      <td>NO</td>\n",
       "      <td>NO</td>\n",
       "      <td>NO</td>\n",
       "      <td>NO</td>\n",
       "      <td>NO</td>\n",
       "      <td>NO</td>\n",
       "      <td>YES</td>\n",
       "      <td>NO</td>\n",
       "      <td>NO</td>\n",
       "      <td>NOT APPLICABLE</td>\n",
       "      <td>NO</td>\n",
       "      <td>NO</td>\n",
       "      <td>NO</td>\n",
       "      <td>NO</td>\n",
       "      <td>YES</td>\n",
       "      <td>888</td>\n",
       "    </tr>\n",
       "    <tr>\n",
       "      <th>4</th>\n",
       "      <td>2015</td>\n",
       "      <td>INPATIENT</td>\n",
       "      <td>LONG ISLAND REGION</td>\n",
       "      <td>ADULT</td>\n",
       "      <td>MALE</td>\n",
       "      <td>NO, NOT TRANSGENDER</td>\n",
       "      <td>STRAIGHT OR HETEROSEXUAL</td>\n",
       "      <td>NO, NOT HISPANIC/LATINO</td>\n",
       "      <td>BLACK ONLY</td>\n",
       "      <td>OTHER LIVING SITUATION</td>\n",
       "      <td>NOT APPLICABLE</td>\n",
       "      <td>ENGLISH</td>\n",
       "      <td>NO</td>\n",
       "      <td>NOT IN LABOR FORCE:UNEMPLOYED AND NOT LOOKING ...</td>\n",
       "      <td>NOT APPLICABLE</td>\n",
       "      <td>MIDDLE SCHOOL TO HIGH SCHOOL</td>\n",
       "      <td>NOT APPLICABLE</td>\n",
       "      <td>YES</td>\n",
       "      <td>NO</td>\n",
       "      <td>NO</td>\n",
       "      <td>YES</td>\n",
       "      <td>NO</td>\n",
       "      <td>NO</td>\n",
       "      <td>NO</td>\n",
       "      <td>NO</td>\n",
       "      <td>YES</td>\n",
       "      <td>YES</td>\n",
       "      <td>NO</td>\n",
       "      <td>NO</td>\n",
       "      <td>NO</td>\n",
       "      <td>NO</td>\n",
       "      <td>YES</td>\n",
       "      <td>NO</td>\n",
       "      <td>YES</td>\n",
       "      <td>NO</td>\n",
       "      <td>NO</td>\n",
       "      <td>NO</td>\n",
       "      <td>NO</td>\n",
       "      <td>NO</td>\n",
       "      <td>NO</td>\n",
       "      <td>NO</td>\n",
       "      <td>NO</td>\n",
       "      <td>NO</td>\n",
       "      <td>NO</td>\n",
       "      <td>NO</td>\n",
       "      <td>NO</td>\n",
       "      <td>NO</td>\n",
       "      <td>YES</td>\n",
       "      <td>MENTAL ILLNESS</td>\n",
       "      <td>NOT MI - ORGANIC MENTAL DISORDER</td>\n",
       "      <td>NO</td>\n",
       "      <td>NO</td>\n",
       "      <td>NO</td>\n",
       "      <td>NO</td>\n",
       "      <td>NO</td>\n",
       "      <td>NO</td>\n",
       "      <td>YES</td>\n",
       "      <td>NO</td>\n",
       "      <td>NO</td>\n",
       "      <td>YES</td>\n",
       "      <td>UNKNOWN</td>\n",
       "      <td>YES</td>\n",
       "      <td>NO</td>\n",
       "      <td>NO</td>\n",
       "      <td>NO</td>\n",
       "      <td>NO</td>\n",
       "      <td>117</td>\n",
       "    </tr>\n",
       "  </tbody>\n",
       "</table>\n",
       "</div>"
      ],
      "text/plain": [
       "   Survey Year Program Category         Region Served Age Group     Sex  \\\n",
       "0         2015        INPATIENT   HUDSON RIVER REGION     ADULT    MALE   \n",
       "1         2015        INPATIENT  NEW YORK CITY REGION     ADULT    MALE   \n",
       "2         2015        INPATIENT   HUDSON RIVER REGION     ADULT    MALE   \n",
       "3         2015        INPATIENT  NEW YORK CITY REGION     ADULT  FEMALE   \n",
       "4         2015        INPATIENT    LONG ISLAND REGION     ADULT    MALE   \n",
       "\n",
       "           Transgender        Sexual Orientation       Hispanic Ethnicity  \\\n",
       "0  NO, NOT TRANSGENDER  STRAIGHT OR HETEROSEXUAL                      YES   \n",
       "1  NO, NOT TRANSGENDER  STRAIGHT OR HETEROSEXUAL  NO, NOT HISPANIC/LATINO   \n",
       "2  NO, NOT TRANSGENDER  STRAIGHT OR HETEROSEXUAL  NO, NOT HISPANIC/LATINO   \n",
       "3  NO, NOT TRANSGENDER  STRAIGHT OR HETEROSEXUAL  NO, NOT HISPANIC/LATINO   \n",
       "4  NO, NOT TRANSGENDER  STRAIGHT OR HETEROSEXUAL  NO, NOT HISPANIC/LATINO   \n",
       "\n",
       "         Race        Living Situation    Household Composition  \\\n",
       "0       OTHER  OTHER LIVING SITUATION           NOT APPLICABLE   \n",
       "1  WHITE ONLY   INSTITUTIONAL SETTING           NOT APPLICABLE   \n",
       "2  WHITE ONLY       PRIVATE RESIDENCE  COHABITATES WITH OTHERS   \n",
       "3       OTHER  OTHER LIVING SITUATION           NOT APPLICABLE   \n",
       "4  BLACK ONLY  OTHER LIVING SITUATION           NOT APPLICABLE   \n",
       "\n",
       "         Preferred Language Veteran Status  \\\n",
       "0                   ENGLISH             NO   \n",
       "1                   ENGLISH             NO   \n",
       "2                   ENGLISH             NO   \n",
       "3  ASIAN AND PACIFIC ISLAND             NO   \n",
       "4                   ENGLISH             NO   \n",
       "\n",
       "                                   Employment Status  \\\n",
       "0  NOT IN LABOR FORCE:UNEMPLOYED AND NOT LOOKING ...   \n",
       "1  NOT IN LABOR FORCE:UNEMPLOYED AND NOT LOOKING ...   \n",
       "2  NOT IN LABOR FORCE:UNEMPLOYED AND NOT LOOKING ...   \n",
       "3  NOT IN LABOR FORCE:UNEMPLOYED AND NOT LOOKING ...   \n",
       "4  NOT IN LABOR FORCE:UNEMPLOYED AND NOT LOOKING ...   \n",
       "\n",
       "  Number Of Hours Worked Each Week              Education Status  \\\n",
       "0                   NOT APPLICABLE  MIDDLE SCHOOL TO HIGH SCHOOL   \n",
       "1                   NOT APPLICABLE    COLLEGE OR GRADUATE DEGREE   \n",
       "2                   NOT APPLICABLE    COLLEGE OR GRADUATE DEGREE   \n",
       "3                   NOT APPLICABLE  MIDDLE SCHOOL TO HIGH SCHOOL   \n",
       "4                   NOT APPLICABLE  MIDDLE SCHOOL TO HIGH SCHOOL   \n",
       "\n",
       "  Special Education Services Mental Illness Intellectual Disability  \\\n",
       "0             NOT APPLICABLE            YES                      NO   \n",
       "1             NOT APPLICABLE            YES                      NO   \n",
       "2             NOT APPLICABLE            YES                      NO   \n",
       "3             NOT APPLICABLE            YES                      NO   \n",
       "4             NOT APPLICABLE            YES                      NO   \n",
       "\n",
       "  Autism Spectrum Other Developmental Disability Alcohol Related Disorder  \\\n",
       "0              NO                             NO                      YES   \n",
       "1              NO                             NO                       NO   \n",
       "2              NO                             NO                       NO   \n",
       "3              NO                             NO                       NO   \n",
       "4              NO                            YES                       NO   \n",
       "\n",
       "  Drug Substance Disorder Mobility Impairment Disorder  \\\n",
       "0                     YES                           NO   \n",
       "1                     YES                           NO   \n",
       "2                      NO                           NO   \n",
       "3                      NO                           NO   \n",
       "4                      NO                           NO   \n",
       "\n",
       "  Hearing Visual Impairment Hyperlipidemia High Blood Pressure Diabetes  \\\n",
       "0                        NO             NO                  NO       NO   \n",
       "1                        NO             NO                  NO       NO   \n",
       "2                       YES            YES                  NO       NO   \n",
       "3                        NO             NO                  NO       NO   \n",
       "4                        NO            YES                 YES       NO   \n",
       "\n",
       "  Obesity Heart Attack Stroke Other Cardiac Pulmonary Asthma  \\\n",
       "0      NO           NO     NO            NO              YES   \n",
       "1      NO           NO     NO            NO               NO   \n",
       "2      NO           NO     NO            NO              YES   \n",
       "3      NO           NO     NO            NO               NO   \n",
       "4      NO           NO     NO           YES               NO   \n",
       "\n",
       "  Alzheimer or Dementia Kidney Disease Liver Disease Endocrine Condition  \\\n",
       "0                    NO             NO            NO                  NO   \n",
       "1                    NO             NO            NO                  NO   \n",
       "2                    NO             NO            NO                 YES   \n",
       "3                    NO             NO            NO                  NO   \n",
       "4                   YES             NO            NO                  NO   \n",
       "\n",
       "  Neurological Condition Traumatic Brain Injury Joint Disease Cancer  \\\n",
       "0                     NO                     NO            NO     NO   \n",
       "1                     NO                     NO            NO     NO   \n",
       "2                     NO                     NO            NO     NO   \n",
       "3                     NO                     NO            NO     NO   \n",
       "4                     NO                     NO            NO     NO   \n",
       "\n",
       "  Other Chronic Med Condition No Chronic Med Condition  \\\n",
       "0                          NO                       NO   \n",
       "1                         YES                       NO   \n",
       "2                         YES                       NO   \n",
       "3                          NO                      YES   \n",
       "4                          NO                       NO   \n",
       "\n",
       "  Unknown Chronic Med Condition Smokes Received Smoking Medication  \\\n",
       "0                            NO     NO                          NO   \n",
       "1                            NO     NO                          NO   \n",
       "2                            NO     NO                          NO   \n",
       "3                            NO     NO                          NO   \n",
       "4                            NO     NO                          NO   \n",
       "\n",
       "  Received Smoking Counseling Serious Mental Illness  \\\n",
       "0                          NO                    YES   \n",
       "1                          NO                    YES   \n",
       "2                         YES                    YES   \n",
       "3                          NO                    YES   \n",
       "4                          NO                    YES   \n",
       "\n",
       "  Principal Diagnosis Class        Additional Diagnosis Class  \\\n",
       "0            MENTAL ILLNESS                           UNKNOWN   \n",
       "1            MENTAL ILLNESS                           UNKNOWN   \n",
       "2            MENTAL ILLNESS                           UNKNOWN   \n",
       "3            MENTAL ILLNESS                           UNKNOWN   \n",
       "4            MENTAL ILLNESS  NOT MI - ORGANIC MENTAL DISORDER   \n",
       "\n",
       "  SSI Cash Assistance SSDI Cash Assistance Veterans Disability Benefits  \\\n",
       "0                  NO                   NO                           NO   \n",
       "1                 YES                   NO                           NO   \n",
       "2                  NO                   NO                           NO   \n",
       "3                  NO                   NO                           NO   \n",
       "4                  NO                   NO                           NO   \n",
       "\n",
       "  Veterans Cash Assistance Public Assistance Cash Program Other Cash Benefits  \\\n",
       "0                       NO                             NO                  NO   \n",
       "1                       NO                        UNKNOWN             UNKNOWN   \n",
       "2                       NO                             NO                  NO   \n",
       "3                       NO                             NO                  NO   \n",
       "4                       NO                             NO                  NO   \n",
       "\n",
       "  Medicaid and Medicare Insurance No Insurance Unknown Insurance Coverage  \\\n",
       "0                              NO           NO                         NO   \n",
       "1                         UNKNOWN           NO                         NO   \n",
       "2                              NO           NO                         NO   \n",
       "3                              NO          YES                         NO   \n",
       "4                             YES           NO                         NO   \n",
       "\n",
       "  Medicaid Insurance Medicaid Managed Insurance Medicare Insurance  \\\n",
       "0                YES                         NO                 NO   \n",
       "1                YES                         NO            UNKNOWN   \n",
       "2                YES                         NO                 NO   \n",
       "3                 NO             NOT APPLICABLE                 NO   \n",
       "4                YES                    UNKNOWN                YES   \n",
       "\n",
       "  Private Insurance Child Health Plus Insurance Other Insurance  \\\n",
       "0                NO                          NO              NO   \n",
       "1                NO                          NO         UNKNOWN   \n",
       "2                NO                          NO              NO   \n",
       "3                NO                          NO              NO   \n",
       "4                NO                          NO              NO   \n",
       "\n",
       "  Criminal Justice Status  Three Digit Residence Zip Code  \n",
       "0                     YES                             113  \n",
       "1                     YES                             113  \n",
       "2                     YES                             107  \n",
       "3                     YES                             888  \n",
       "4                      NO                             117  "
      ]
     },
     "execution_count": 3,
     "metadata": {},
     "output_type": "execute_result"
    }
   ],
   "source": [
    "nys_omh.head()"
   ]
  },
  {
   "cell_type": "code",
   "execution_count": 4,
   "metadata": {},
   "outputs": [],
   "source": [
    "data = nys_omh.copy()"
   ]
  },
  {
   "cell_type": "code",
   "execution_count": 5,
   "metadata": {},
   "outputs": [
    {
     "data": {
      "text/plain": [
       "pandas.core.frame.DataFrame"
      ]
     },
     "execution_count": 5,
     "metadata": {},
     "output_type": "execute_result"
    }
   ],
   "source": [
    "type(nys_omh)"
   ]
  },
  {
   "cell_type": "markdown",
   "metadata": {},
   "source": [
    "## Feature Engineering"
   ]
  },
  {
   "cell_type": "markdown",
   "metadata": {},
   "source": [
    "While our dataset is clean, it featured many binary and categorical attributes. This section outlines the necessary steps we took to replace some YES/NO columns with binary values and transform others into dummy variables."
   ]
  },
  {
   "cell_type": "markdown",
   "metadata": {},
   "source": [
    "### All Initial Column Names"
   ]
  },
  {
   "cell_type": "code",
   "execution_count": 6,
   "metadata": {},
   "outputs": [
    {
     "data": {
      "text/plain": [
       "['Survey Year',\n",
       " 'Program Category',\n",
       " 'Region Served',\n",
       " 'Age Group',\n",
       " 'Sex',\n",
       " 'Transgender',\n",
       " 'Sexual Orientation',\n",
       " 'Hispanic Ethnicity',\n",
       " 'Race',\n",
       " 'Living Situation',\n",
       " 'Household Composition',\n",
       " 'Preferred Language',\n",
       " 'Veteran Status',\n",
       " 'Employment Status',\n",
       " 'Number Of Hours Worked Each Week',\n",
       " 'Education Status',\n",
       " 'Special Education Services',\n",
       " 'Mental Illness',\n",
       " 'Intellectual Disability',\n",
       " 'Autism Spectrum',\n",
       " 'Other Developmental Disability',\n",
       " 'Alcohol Related Disorder',\n",
       " 'Drug Substance Disorder',\n",
       " 'Mobility Impairment Disorder',\n",
       " 'Hearing Visual Impairment',\n",
       " 'Hyperlipidemia',\n",
       " 'High Blood Pressure',\n",
       " 'Diabetes',\n",
       " 'Obesity',\n",
       " 'Heart Attack',\n",
       " 'Stroke',\n",
       " 'Other Cardiac',\n",
       " 'Pulmonary Asthma',\n",
       " 'Alzheimer or Dementia',\n",
       " 'Kidney Disease',\n",
       " 'Liver Disease',\n",
       " 'Endocrine Condition',\n",
       " 'Neurological Condition',\n",
       " 'Traumatic Brain Injury',\n",
       " 'Joint Disease',\n",
       " 'Cancer',\n",
       " 'Other Chronic Med Condition',\n",
       " 'No Chronic Med Condition',\n",
       " 'Unknown Chronic Med Condition',\n",
       " 'Smokes',\n",
       " 'Received Smoking Medication',\n",
       " 'Received Smoking Counseling',\n",
       " 'Serious Mental Illness',\n",
       " 'Principal Diagnosis Class',\n",
       " 'Additional Diagnosis Class',\n",
       " 'SSI Cash Assistance',\n",
       " 'SSDI Cash Assistance',\n",
       " 'Veterans Disability Benefits',\n",
       " 'Veterans Cash Assistance',\n",
       " 'Public Assistance Cash Program',\n",
       " 'Other Cash Benefits',\n",
       " 'Medicaid and Medicare Insurance',\n",
       " 'No Insurance',\n",
       " 'Unknown Insurance Coverage',\n",
       " 'Medicaid Insurance',\n",
       " 'Medicaid Managed Insurance',\n",
       " 'Medicare Insurance',\n",
       " 'Private Insurance',\n",
       " 'Child Health Plus Insurance',\n",
       " 'Other Insurance',\n",
       " 'Criminal Justice Status',\n",
       " 'Three Digit Residence Zip Code']"
      ]
     },
     "execution_count": 6,
     "metadata": {},
     "output_type": "execute_result"
    }
   ],
   "source": [
    "cols = [i for i in nys_omh.columns]\n",
    "cols"
   ]
  },
  {
   "cell_type": "markdown",
   "metadata": {},
   "source": [
    "### Unknowns/Nulls"
   ]
  },
  {
   "cell_type": "markdown",
   "metadata": {},
   "source": [
    "We realized fairly quickly that there were no null values in our dataset; instead the value was listed as UNKNOWN. To more effectively filter out incomplete data we recoded UNKNOWNs to nulls."
   ]
  },
  {
   "cell_type": "code",
   "execution_count": 7,
   "metadata": {},
   "outputs": [],
   "source": [
    "nys_omh.replace('UNKNOWN', np.nan, inplace=True)"
   ]
  },
  {
   "cell_type": "code",
   "execution_count": 8,
   "metadata": {},
   "outputs": [],
   "source": [
    "nys_omh.dropna(inplace=True)"
   ]
  },
  {
   "cell_type": "markdown",
   "metadata": {},
   "source": [
    "### Dropping Columns"
   ]
  },
  {
   "cell_type": "markdown",
   "metadata": {},
   "source": [
    "There are several attributes in the dataset that would end up being highly correlated with serious mental illness by definition (such as Mental Illness, Diagnosis, etc.). Because our goal is to predict serious mental illness prior to treatment, these columns were removed from the dataset. Additional, we removed the uninformative columns for Survey Year (all patients were surveyed in the same week in October 2015) and Unknown Insurance Coverage. Finally, we removed program category as inpatient, residential, and outpatient treatment types may unintentionally predict Serious Mental Illness via reverse causality."
   ]
  },
  {
   "cell_type": "code",
   "execution_count": 9,
   "metadata": {},
   "outputs": [],
   "source": [
    "nys_omh.drop(columns=['Survey Year', 'Mental Illness', 'Principal Diagnosis Class', \n",
    "              'Additional Diagnosis Class', 'Unknown Insurance Coverage', 'Program Category'], inplace=True)"
   ]
  },
  {
   "cell_type": "markdown",
   "metadata": {},
   "source": [
    "### Creating the LGBTQ+ Column"
   ]
  },
  {
   "cell_type": "markdown",
   "metadata": {},
   "source": [
    "As the data show below, the incidence of specific categories for gay, bisexual, and transgender youth are somewhat limited. Due to the stigma, harrassment, and violence that often plague LGBTQ individuals we know members of this population may be more likely to be diagnosed with serious mental illness--and also often conceal their sexual or gender identity. To account for the limited representation, we decided to create a binary LGBTQ+ attribute."
   ]
  },
  {
   "cell_type": "code",
   "execution_count": 10,
   "metadata": {
    "scrolled": true
   },
   "outputs": [
    {
     "data": {
      "text/plain": [
       "STRAIGHT OR HETEROSEXUAL    42744\n",
       "LESBIAN OR GAY               1679\n",
       "CLIENT DID NOT ANSWER        1555\n",
       "BISEXUAL                     1488\n",
       "OTHER                         343\n",
       "Name: Sexual Orientation, dtype: int64"
      ]
     },
     "execution_count": 10,
     "metadata": {},
     "output_type": "execute_result"
    }
   ],
   "source": [
    "nys_omh['Sexual Orientation'].value_counts()"
   ]
  },
  {
   "cell_type": "code",
   "execution_count": 11,
   "metadata": {},
   "outputs": [
    {
     "data": {
      "text/plain": [
       "NO, NOT TRANSGENDER     47216\n",
       "YES, TRANSGENDER          385\n",
       "CLIENT DIDN'T ANSWER      208\n",
       "Name: Transgender, dtype: int64"
      ]
     },
     "execution_count": 11,
     "metadata": {},
     "output_type": "execute_result"
    }
   ],
   "source": [
    "nys_omh['Transgender'].value_counts()"
   ]
  },
  {
   "cell_type": "code",
   "execution_count": 12,
   "metadata": {},
   "outputs": [],
   "source": [
    "# nys_omh['Transgender'] = nys_omh['Transgender'].map({'NO, NOT TRANSGENDER': 0, 'YES, TRANSGENDER': 1, 'CLIENT DIDN\\'T ANSWER': np.nan})"
   ]
  },
  {
   "cell_type": "code",
   "execution_count": 13,
   "metadata": {},
   "outputs": [],
   "source": [
    "nys_omh['LGBTQ+'] = nys_omh['Sexual Orientation']"
   ]
  },
  {
   "cell_type": "markdown",
   "metadata": {},
   "source": [
    "This section shows how all of the values that were coded as 1 for the LGBTQ+ column. Because the number of rows in our dataset became so limited after removing all unknown values, we decided we didn't want to reduce our sample size further by eliminating 'CLIENT DIDN'T ANSWER.' We made the assumption that the lack of an answer was an answer, or possibly due to the person still figuring out their identity. Therefore, we coded all non-answers (less than 5% of people) as LGBTQ+ as well."
   ]
  },
  {
   "cell_type": "code",
   "execution_count": 14,
   "metadata": {},
   "outputs": [],
   "source": [
    "nys_omh.loc[(nys_omh['Sexual Orientation'] == 'LESBIAN OR GAY') | (nys_omh['Sexual Orientation'] == 'BISEXUAL') \n",
    "            | (nys_omh['Sexual Orientation'] == 'OTHER') | (nys_omh['Transgender'] == 'YES, TRANSGENDER')\n",
    "            | (nys_omh['Sexual Orientation'] == 'CLIENT DID NOT ANSWER') | (nys_omh['Transgender'] == 'CLIENT DIDN\\'T ANSWER')\n",
    "            , 'LGBTQ+'] = 1"
   ]
  },
  {
   "cell_type": "code",
   "execution_count": 15,
   "metadata": {},
   "outputs": [],
   "source": [
    "nys_omh['LGBTQ+'] = nys_omh['LGBTQ+'].replace('STRAIGHT OR HETEROSEXUAL', 0)"
   ]
  },
  {
   "cell_type": "code",
   "execution_count": 16,
   "metadata": {},
   "outputs": [
    {
     "data": {
      "text/plain": [
       "0    42574\n",
       "1     5235\n",
       "Name: LGBTQ+, dtype: int64"
      ]
     },
     "execution_count": 16,
     "metadata": {},
     "output_type": "execute_result"
    }
   ],
   "source": [
    "nys_omh['LGBTQ+'].value_counts()"
   ]
  },
  {
   "cell_type": "markdown",
   "metadata": {},
   "source": [
    "Finally, we removed the original Sexual Orientation and Transgender columns."
   ]
  },
  {
   "cell_type": "code",
   "execution_count": 17,
   "metadata": {},
   "outputs": [],
   "source": [
    "nys_omh.drop(columns=['Sexual Orientation', 'Transgender'], inplace=True)"
   ]
  },
  {
   "cell_type": "markdown",
   "metadata": {},
   "source": [
    "### Race and Ethnicity"
   ]
  },
  {
   "cell_type": "markdown",
   "metadata": {},
   "source": [
    "In this section we recode Hispanic Ethnicity to be binary and remove records where race is unknown. "
   ]
  },
  {
   "cell_type": "code",
   "execution_count": 18,
   "metadata": {},
   "outputs": [],
   "source": [
    "nys_omh['Hispanic Ethnicity'] = nys_omh['Hispanic Ethnicity'].map({'NO, NOT HISPANIC/LATINO': 0, 'YES': 1})"
   ]
  },
  {
   "cell_type": "code",
   "execution_count": 19,
   "metadata": {},
   "outputs": [],
   "source": [
    "nys_omh['Race'] = nys_omh['Race'].replace('UNKNOWN RACE', np.nan)\n",
    "nys_omh['Race'].dropna(inplace = True)"
   ]
  },
  {
   "cell_type": "markdown",
   "metadata": {},
   "source": [
    "### Employment Status"
   ]
  },
  {
   "cell_type": "markdown",
   "metadata": {},
   "source": [
    "Here we remove all records where employment status is unknown."
   ]
  },
  {
   "cell_type": "code",
   "execution_count": 20,
   "metadata": {},
   "outputs": [],
   "source": [
    "nys_omh['Employment Status'] = nys_omh['Employment Status'].replace('UNKNOWN EMPLOYMENT STATUS', np.nan)\n",
    "nys_omh['Employment Status'].dropna(inplace = True)"
   ]
  },
  {
   "cell_type": "markdown",
   "metadata": {},
   "source": [
    "Now let's see what columns we have."
   ]
  },
  {
   "cell_type": "code",
   "execution_count": 21,
   "metadata": {},
   "outputs": [
    {
     "name": "stdout",
     "output_type": "stream",
     "text": [
      "<class 'pandas.core.frame.DataFrame'>\n",
      "Int64Index: 47809 entries, 5 to 179088\n",
      "Data columns (total 60 columns):\n",
      "Region Served                       47809 non-null object\n",
      "Age Group                           47809 non-null object\n",
      "Sex                                 47809 non-null object\n",
      "Hispanic Ethnicity                  47809 non-null int64\n",
      "Race                                47228 non-null object\n",
      "Living Situation                    47809 non-null object\n",
      "Household Composition               47809 non-null object\n",
      "Preferred Language                  47809 non-null object\n",
      "Veteran Status                      47809 non-null object\n",
      "Employment Status                   47465 non-null object\n",
      "Number Of Hours Worked Each Week    47809 non-null object\n",
      "Education Status                    47809 non-null object\n",
      "Special Education Services          47809 non-null object\n",
      "Intellectual Disability             47809 non-null object\n",
      "Autism Spectrum                     47809 non-null object\n",
      "Other Developmental Disability      47809 non-null object\n",
      "Alcohol Related Disorder            47809 non-null object\n",
      "Drug Substance Disorder             47809 non-null object\n",
      "Mobility Impairment Disorder        47809 non-null object\n",
      "Hearing Visual Impairment           47809 non-null object\n",
      "Hyperlipidemia                      47809 non-null object\n",
      "High Blood Pressure                 47809 non-null object\n",
      "Diabetes                            47809 non-null object\n",
      "Obesity                             47809 non-null object\n",
      "Heart Attack                        47809 non-null object\n",
      "Stroke                              47809 non-null object\n",
      "Other Cardiac                       47809 non-null object\n",
      "Pulmonary Asthma                    47809 non-null object\n",
      "Alzheimer or Dementia               47809 non-null object\n",
      "Kidney Disease                      47809 non-null object\n",
      "Liver Disease                       47809 non-null object\n",
      "Endocrine Condition                 47809 non-null object\n",
      "Neurological Condition              47809 non-null object\n",
      "Traumatic Brain Injury              47809 non-null object\n",
      "Joint Disease                       47809 non-null object\n",
      "Cancer                              47809 non-null object\n",
      "Other Chronic Med Condition         47809 non-null object\n",
      "No Chronic Med Condition            47809 non-null object\n",
      "Unknown Chronic Med Condition       47809 non-null object\n",
      "Smokes                              47809 non-null object\n",
      "Received Smoking Medication         47809 non-null object\n",
      "Received Smoking Counseling         47809 non-null object\n",
      "Serious Mental Illness              47809 non-null object\n",
      "SSI Cash Assistance                 47809 non-null object\n",
      "SSDI Cash Assistance                47809 non-null object\n",
      "Veterans Disability Benefits        47809 non-null object\n",
      "Veterans Cash Assistance            47809 non-null object\n",
      "Public Assistance Cash Program      47809 non-null object\n",
      "Other Cash Benefits                 47809 non-null object\n",
      "Medicaid and Medicare Insurance     47809 non-null object\n",
      "No Insurance                        47809 non-null object\n",
      "Medicaid Insurance                  47809 non-null object\n",
      "Medicaid Managed Insurance          47809 non-null object\n",
      "Medicare Insurance                  47809 non-null object\n",
      "Private Insurance                   47809 non-null object\n",
      "Child Health Plus Insurance         47809 non-null object\n",
      "Other Insurance                     47809 non-null object\n",
      "Criminal Justice Status             47809 non-null object\n",
      "Three Digit Residence Zip Code      47809 non-null int64\n",
      "LGBTQ+                              47809 non-null int64\n",
      "dtypes: int64(3), object(57)\n",
      "memory usage: 22.2+ MB\n"
     ]
    }
   ],
   "source": [
    "nys_omh.info()"
   ]
  },
  {
   "cell_type": "markdown",
   "metadata": {},
   "source": [
    "### Zip Code and Dummy Variables"
   ]
  },
  {
   "cell_type": "markdown",
   "metadata": {},
   "source": [
    "Before creating dummy variables for many of our columns, we first converted Residence Zip Code into a str to ensure it is treated as a cateogrical variable, not a numeric one. We had noted, in case it was relevant later, that Residence Zip Code 888 denotes homeless individuals, although this feature did not appear in the model we eventually selected."
   ]
  },
  {
   "cell_type": "code",
   "execution_count": 22,
   "metadata": {},
   "outputs": [],
   "source": [
    "nys_omh['Three Digit Residence Zip Code'] = nys_omh['Three Digit Residence Zip Code'].astype(str)"
   ]
  },
  {
   "cell_type": "code",
   "execution_count": 23,
   "metadata": {
    "scrolled": true
   },
   "outputs": [
    {
     "data": {
      "text/html": [
       "<div>\n",
       "<style scoped>\n",
       "    .dataframe tbody tr th:only-of-type {\n",
       "        vertical-align: middle;\n",
       "    }\n",
       "\n",
       "    .dataframe tbody tr th {\n",
       "        vertical-align: top;\n",
       "    }\n",
       "\n",
       "    .dataframe thead th {\n",
       "        text-align: right;\n",
       "    }\n",
       "</style>\n",
       "<table border=\"1\" class=\"dataframe\">\n",
       "  <thead>\n",
       "    <tr style=\"text-align: right;\">\n",
       "      <th></th>\n",
       "      <th>Hispanic Ethnicity</th>\n",
       "      <th>LGBTQ+</th>\n",
       "      <th>Region Served_HUDSON RIVER REGION</th>\n",
       "      <th>Region Served_LONG ISLAND REGION</th>\n",
       "      <th>Region Served_NEW YORK CITY REGION</th>\n",
       "      <th>Region Served_WESTERN REGION</th>\n",
       "      <th>Age Group_CHILD</th>\n",
       "      <th>Sex_MALE</th>\n",
       "      <th>Race_MULTI-RACIAL</th>\n",
       "      <th>Race_OTHER</th>\n",
       "      <th>Race_WHITE ONLY</th>\n",
       "      <th>Living Situation_OTHER LIVING SITUATION</th>\n",
       "      <th>Living Situation_PRIVATE RESIDENCE</th>\n",
       "      <th>Household Composition_LIVES ALONE</th>\n",
       "      <th>Household Composition_NOT APPLICABLE</th>\n",
       "      <th>Preferred Language_ALL OTHER LANGUAGES</th>\n",
       "      <th>Preferred Language_ASIAN AND PACIFIC ISLAND</th>\n",
       "      <th>Preferred Language_ENGLISH</th>\n",
       "      <th>Preferred Language_INDO-EUROPEAN</th>\n",
       "      <th>Preferred Language_SPANISH</th>\n",
       "      <th>Veteran Status_YES</th>\n",
       "      <th>Employment Status_NON-PAID/VOLUNTEER</th>\n",
       "      <th>Employment Status_NOT IN LABOR FORCE:UNEMPLOYED AND NOT LOOKING FOR WORK</th>\n",
       "      <th>Employment Status_UNEMPLOYED, LOOKING FOR WORK</th>\n",
       "      <th>Number Of Hours Worked Each Week_15-34 HOURS</th>\n",
       "      <th>Number Of Hours Worked Each Week_35 HOURS OR MORE</th>\n",
       "      <th>Number Of Hours Worked Each Week_NOT APPLICABLE</th>\n",
       "      <th>Number Of Hours Worked Each Week_UNKNOWN EMPLOYMENT HOURS</th>\n",
       "      <th>Education Status_MIDDLE SCHOOL TO HIGH SCHOOL</th>\n",
       "      <th>Education Status_NO FORMAL EDUCATION</th>\n",
       "      <th>Education Status_OTHER</th>\n",
       "      <th>Education Status_PRE-K TO FIFTH GRADE</th>\n",
       "      <th>Education Status_SOME COLLEGE</th>\n",
       "      <th>Special Education Services_NOT APPLICABLE</th>\n",
       "      <th>Special Education Services_YES</th>\n",
       "      <th>Intellectual Disability_YES</th>\n",
       "      <th>Autism Spectrum_YES</th>\n",
       "      <th>Other Developmental Disability_YES</th>\n",
       "      <th>Alcohol Related Disorder_YES</th>\n",
       "      <th>Drug Substance Disorder_YES</th>\n",
       "      <th>Mobility Impairment Disorder_YES</th>\n",
       "      <th>Hearing Visual Impairment_YES</th>\n",
       "      <th>Hyperlipidemia_YES</th>\n",
       "      <th>High Blood Pressure_YES</th>\n",
       "      <th>Diabetes_YES</th>\n",
       "      <th>Obesity_YES</th>\n",
       "      <th>Heart Attack_YES</th>\n",
       "      <th>Stroke_YES</th>\n",
       "      <th>Other Cardiac_YES</th>\n",
       "      <th>Pulmonary Asthma_YES</th>\n",
       "      <th>Alzheimer or Dementia_YES</th>\n",
       "      <th>Kidney Disease_YES</th>\n",
       "      <th>Liver Disease_YES</th>\n",
       "      <th>Endocrine Condition_YES</th>\n",
       "      <th>Neurological Condition_YES</th>\n",
       "      <th>Traumatic Brain Injury_YES</th>\n",
       "      <th>Joint Disease_YES</th>\n",
       "      <th>Cancer_YES</th>\n",
       "      <th>Other Chronic Med Condition_YES</th>\n",
       "      <th>No Chronic Med Condition_YES</th>\n",
       "      <th>Smokes_YES</th>\n",
       "      <th>Received Smoking Medication_YES</th>\n",
       "      <th>Received Smoking Counseling_YES</th>\n",
       "      <th>Serious Mental Illness_YES</th>\n",
       "      <th>SSI Cash Assistance_YES</th>\n",
       "      <th>SSDI Cash Assistance_YES</th>\n",
       "      <th>Veterans Disability Benefits_YES</th>\n",
       "      <th>Veterans Cash Assistance_YES</th>\n",
       "      <th>Public Assistance Cash Program_YES</th>\n",
       "      <th>Other Cash Benefits_YES</th>\n",
       "      <th>Medicaid and Medicare Insurance_YES</th>\n",
       "      <th>No Insurance_YES</th>\n",
       "      <th>Medicaid Insurance_YES</th>\n",
       "      <th>Medicaid Managed Insurance_NOT APPLICABLE</th>\n",
       "      <th>Medicaid Managed Insurance_YES</th>\n",
       "      <th>Medicare Insurance_YES</th>\n",
       "      <th>Private Insurance_YES</th>\n",
       "      <th>Child Health Plus Insurance_YES</th>\n",
       "      <th>Other Insurance_YES</th>\n",
       "      <th>Criminal Justice Status_YES</th>\n",
       "      <th>Three Digit Residence Zip Code_101</th>\n",
       "      <th>Three Digit Residence Zip Code_103</th>\n",
       "      <th>Three Digit Residence Zip Code_104</th>\n",
       "      <th>Three Digit Residence Zip Code_105</th>\n",
       "      <th>Three Digit Residence Zip Code_106</th>\n",
       "      <th>Three Digit Residence Zip Code_107</th>\n",
       "      <th>Three Digit Residence Zip Code_108</th>\n",
       "      <th>Three Digit Residence Zip Code_109</th>\n",
       "      <th>Three Digit Residence Zip Code_110</th>\n",
       "      <th>Three Digit Residence Zip Code_111</th>\n",
       "      <th>Three Digit Residence Zip Code_112</th>\n",
       "      <th>Three Digit Residence Zip Code_113</th>\n",
       "      <th>Three Digit Residence Zip Code_114</th>\n",
       "      <th>Three Digit Residence Zip Code_115</th>\n",
       "      <th>Three Digit Residence Zip Code_116</th>\n",
       "      <th>Three Digit Residence Zip Code_117</th>\n",
       "      <th>Three Digit Residence Zip Code_118</th>\n",
       "      <th>Three Digit Residence Zip Code_119</th>\n",
       "      <th>Three Digit Residence Zip Code_120</th>\n",
       "      <th>Three Digit Residence Zip Code_121</th>\n",
       "      <th>Three Digit Residence Zip Code_122</th>\n",
       "      <th>Three Digit Residence Zip Code_123</th>\n",
       "      <th>Three Digit Residence Zip Code_124</th>\n",
       "      <th>Three Digit Residence Zip Code_125</th>\n",
       "      <th>Three Digit Residence Zip Code_126</th>\n",
       "      <th>Three Digit Residence Zip Code_127</th>\n",
       "      <th>Three Digit Residence Zip Code_128</th>\n",
       "      <th>Three Digit Residence Zip Code_129</th>\n",
       "      <th>Three Digit Residence Zip Code_130</th>\n",
       "      <th>Three Digit Residence Zip Code_131</th>\n",
       "      <th>Three Digit Residence Zip Code_132</th>\n",
       "      <th>Three Digit Residence Zip Code_133</th>\n",
       "      <th>Three Digit Residence Zip Code_134</th>\n",
       "      <th>Three Digit Residence Zip Code_135</th>\n",
       "      <th>Three Digit Residence Zip Code_136</th>\n",
       "      <th>Three Digit Residence Zip Code_137</th>\n",
       "      <th>Three Digit Residence Zip Code_138</th>\n",
       "      <th>Three Digit Residence Zip Code_139</th>\n",
       "      <th>Three Digit Residence Zip Code_140</th>\n",
       "      <th>Three Digit Residence Zip Code_141</th>\n",
       "      <th>Three Digit Residence Zip Code_142</th>\n",
       "      <th>Three Digit Residence Zip Code_143</th>\n",
       "      <th>Three Digit Residence Zip Code_144</th>\n",
       "      <th>Three Digit Residence Zip Code_145</th>\n",
       "      <th>Three Digit Residence Zip Code_146</th>\n",
       "      <th>Three Digit Residence Zip Code_147</th>\n",
       "      <th>Three Digit Residence Zip Code_148</th>\n",
       "      <th>Three Digit Residence Zip Code_149</th>\n",
       "      <th>Three Digit Residence Zip Code_888</th>\n",
       "      <th>Three Digit Residence Zip Code_999</th>\n",
       "    </tr>\n",
       "  </thead>\n",
       "  <tbody>\n",
       "    <tr>\n",
       "      <th>5</th>\n",
       "      <td>0</td>\n",
       "      <td>0</td>\n",
       "      <td>1</td>\n",
       "      <td>0</td>\n",
       "      <td>0</td>\n",
       "      <td>0</td>\n",
       "      <td>0</td>\n",
       "      <td>1</td>\n",
       "      <td>0</td>\n",
       "      <td>0</td>\n",
       "      <td>0</td>\n",
       "      <td>1</td>\n",
       "      <td>0</td>\n",
       "      <td>0</td>\n",
       "      <td>1</td>\n",
       "      <td>0</td>\n",
       "      <td>0</td>\n",
       "      <td>1</td>\n",
       "      <td>0</td>\n",
       "      <td>0</td>\n",
       "      <td>0</td>\n",
       "      <td>0</td>\n",
       "      <td>1</td>\n",
       "      <td>0</td>\n",
       "      <td>0</td>\n",
       "      <td>0</td>\n",
       "      <td>1</td>\n",
       "      <td>0</td>\n",
       "      <td>1</td>\n",
       "      <td>0</td>\n",
       "      <td>0</td>\n",
       "      <td>0</td>\n",
       "      <td>0</td>\n",
       "      <td>1</td>\n",
       "      <td>0</td>\n",
       "      <td>0</td>\n",
       "      <td>0</td>\n",
       "      <td>0</td>\n",
       "      <td>1</td>\n",
       "      <td>1</td>\n",
       "      <td>0</td>\n",
       "      <td>0</td>\n",
       "      <td>0</td>\n",
       "      <td>0</td>\n",
       "      <td>0</td>\n",
       "      <td>1</td>\n",
       "      <td>0</td>\n",
       "      <td>0</td>\n",
       "      <td>0</td>\n",
       "      <td>1</td>\n",
       "      <td>0</td>\n",
       "      <td>0</td>\n",
       "      <td>0</td>\n",
       "      <td>0</td>\n",
       "      <td>0</td>\n",
       "      <td>0</td>\n",
       "      <td>0</td>\n",
       "      <td>0</td>\n",
       "      <td>0</td>\n",
       "      <td>0</td>\n",
       "      <td>0</td>\n",
       "      <td>0</td>\n",
       "      <td>0</td>\n",
       "      <td>1</td>\n",
       "      <td>0</td>\n",
       "      <td>0</td>\n",
       "      <td>0</td>\n",
       "      <td>0</td>\n",
       "      <td>0</td>\n",
       "      <td>0</td>\n",
       "      <td>0</td>\n",
       "      <td>1</td>\n",
       "      <td>0</td>\n",
       "      <td>1</td>\n",
       "      <td>0</td>\n",
       "      <td>0</td>\n",
       "      <td>0</td>\n",
       "      <td>0</td>\n",
       "      <td>0</td>\n",
       "      <td>1</td>\n",
       "      <td>0</td>\n",
       "      <td>0</td>\n",
       "      <td>0</td>\n",
       "      <td>0</td>\n",
       "      <td>0</td>\n",
       "      <td>0</td>\n",
       "      <td>0</td>\n",
       "      <td>0</td>\n",
       "      <td>0</td>\n",
       "      <td>0</td>\n",
       "      <td>0</td>\n",
       "      <td>1</td>\n",
       "      <td>0</td>\n",
       "      <td>0</td>\n",
       "      <td>0</td>\n",
       "      <td>0</td>\n",
       "      <td>0</td>\n",
       "      <td>0</td>\n",
       "      <td>0</td>\n",
       "      <td>0</td>\n",
       "      <td>0</td>\n",
       "      <td>0</td>\n",
       "      <td>0</td>\n",
       "      <td>0</td>\n",
       "      <td>0</td>\n",
       "      <td>0</td>\n",
       "      <td>0</td>\n",
       "      <td>0</td>\n",
       "      <td>0</td>\n",
       "      <td>0</td>\n",
       "      <td>0</td>\n",
       "      <td>0</td>\n",
       "      <td>0</td>\n",
       "      <td>0</td>\n",
       "      <td>0</td>\n",
       "      <td>0</td>\n",
       "      <td>0</td>\n",
       "      <td>0</td>\n",
       "      <td>0</td>\n",
       "      <td>0</td>\n",
       "      <td>0</td>\n",
       "      <td>0</td>\n",
       "      <td>0</td>\n",
       "      <td>0</td>\n",
       "      <td>0</td>\n",
       "      <td>0</td>\n",
       "      <td>0</td>\n",
       "      <td>0</td>\n",
       "      <td>0</td>\n",
       "      <td>0</td>\n",
       "    </tr>\n",
       "    <tr>\n",
       "      <th>7</th>\n",
       "      <td>0</td>\n",
       "      <td>0</td>\n",
       "      <td>1</td>\n",
       "      <td>0</td>\n",
       "      <td>0</td>\n",
       "      <td>0</td>\n",
       "      <td>0</td>\n",
       "      <td>1</td>\n",
       "      <td>0</td>\n",
       "      <td>0</td>\n",
       "      <td>0</td>\n",
       "      <td>1</td>\n",
       "      <td>0</td>\n",
       "      <td>0</td>\n",
       "      <td>1</td>\n",
       "      <td>0</td>\n",
       "      <td>0</td>\n",
       "      <td>1</td>\n",
       "      <td>0</td>\n",
       "      <td>0</td>\n",
       "      <td>1</td>\n",
       "      <td>0</td>\n",
       "      <td>1</td>\n",
       "      <td>0</td>\n",
       "      <td>0</td>\n",
       "      <td>0</td>\n",
       "      <td>1</td>\n",
       "      <td>0</td>\n",
       "      <td>1</td>\n",
       "      <td>0</td>\n",
       "      <td>0</td>\n",
       "      <td>0</td>\n",
       "      <td>0</td>\n",
       "      <td>1</td>\n",
       "      <td>0</td>\n",
       "      <td>0</td>\n",
       "      <td>0</td>\n",
       "      <td>0</td>\n",
       "      <td>1</td>\n",
       "      <td>0</td>\n",
       "      <td>0</td>\n",
       "      <td>0</td>\n",
       "      <td>0</td>\n",
       "      <td>0</td>\n",
       "      <td>0</td>\n",
       "      <td>0</td>\n",
       "      <td>0</td>\n",
       "      <td>0</td>\n",
       "      <td>0</td>\n",
       "      <td>0</td>\n",
       "      <td>0</td>\n",
       "      <td>0</td>\n",
       "      <td>0</td>\n",
       "      <td>0</td>\n",
       "      <td>0</td>\n",
       "      <td>0</td>\n",
       "      <td>0</td>\n",
       "      <td>0</td>\n",
       "      <td>1</td>\n",
       "      <td>0</td>\n",
       "      <td>0</td>\n",
       "      <td>0</td>\n",
       "      <td>1</td>\n",
       "      <td>1</td>\n",
       "      <td>0</td>\n",
       "      <td>0</td>\n",
       "      <td>0</td>\n",
       "      <td>0</td>\n",
       "      <td>1</td>\n",
       "      <td>0</td>\n",
       "      <td>0</td>\n",
       "      <td>0</td>\n",
       "      <td>1</td>\n",
       "      <td>0</td>\n",
       "      <td>0</td>\n",
       "      <td>0</td>\n",
       "      <td>0</td>\n",
       "      <td>0</td>\n",
       "      <td>0</td>\n",
       "      <td>1</td>\n",
       "      <td>0</td>\n",
       "      <td>0</td>\n",
       "      <td>0</td>\n",
       "      <td>0</td>\n",
       "      <td>0</td>\n",
       "      <td>0</td>\n",
       "      <td>0</td>\n",
       "      <td>0</td>\n",
       "      <td>0</td>\n",
       "      <td>0</td>\n",
       "      <td>0</td>\n",
       "      <td>0</td>\n",
       "      <td>0</td>\n",
       "      <td>0</td>\n",
       "      <td>0</td>\n",
       "      <td>0</td>\n",
       "      <td>0</td>\n",
       "      <td>0</td>\n",
       "      <td>0</td>\n",
       "      <td>0</td>\n",
       "      <td>0</td>\n",
       "      <td>0</td>\n",
       "      <td>0</td>\n",
       "      <td>0</td>\n",
       "      <td>0</td>\n",
       "      <td>0</td>\n",
       "      <td>0</td>\n",
       "      <td>0</td>\n",
       "      <td>1</td>\n",
       "      <td>0</td>\n",
       "      <td>0</td>\n",
       "      <td>0</td>\n",
       "      <td>0</td>\n",
       "      <td>0</td>\n",
       "      <td>0</td>\n",
       "      <td>0</td>\n",
       "      <td>0</td>\n",
       "      <td>0</td>\n",
       "      <td>0</td>\n",
       "      <td>0</td>\n",
       "      <td>0</td>\n",
       "      <td>0</td>\n",
       "      <td>0</td>\n",
       "      <td>0</td>\n",
       "      <td>0</td>\n",
       "      <td>0</td>\n",
       "      <td>0</td>\n",
       "      <td>0</td>\n",
       "      <td>0</td>\n",
       "      <td>0</td>\n",
       "    </tr>\n",
       "    <tr>\n",
       "      <th>9</th>\n",
       "      <td>1</td>\n",
       "      <td>0</td>\n",
       "      <td>1</td>\n",
       "      <td>0</td>\n",
       "      <td>0</td>\n",
       "      <td>0</td>\n",
       "      <td>0</td>\n",
       "      <td>1</td>\n",
       "      <td>1</td>\n",
       "      <td>0</td>\n",
       "      <td>0</td>\n",
       "      <td>1</td>\n",
       "      <td>0</td>\n",
       "      <td>0</td>\n",
       "      <td>1</td>\n",
       "      <td>0</td>\n",
       "      <td>0</td>\n",
       "      <td>1</td>\n",
       "      <td>0</td>\n",
       "      <td>0</td>\n",
       "      <td>0</td>\n",
       "      <td>0</td>\n",
       "      <td>1</td>\n",
       "      <td>0</td>\n",
       "      <td>0</td>\n",
       "      <td>0</td>\n",
       "      <td>1</td>\n",
       "      <td>0</td>\n",
       "      <td>1</td>\n",
       "      <td>0</td>\n",
       "      <td>0</td>\n",
       "      <td>0</td>\n",
       "      <td>0</td>\n",
       "      <td>1</td>\n",
       "      <td>0</td>\n",
       "      <td>0</td>\n",
       "      <td>0</td>\n",
       "      <td>0</td>\n",
       "      <td>0</td>\n",
       "      <td>0</td>\n",
       "      <td>0</td>\n",
       "      <td>1</td>\n",
       "      <td>0</td>\n",
       "      <td>0</td>\n",
       "      <td>0</td>\n",
       "      <td>0</td>\n",
       "      <td>0</td>\n",
       "      <td>0</td>\n",
       "      <td>0</td>\n",
       "      <td>0</td>\n",
       "      <td>0</td>\n",
       "      <td>0</td>\n",
       "      <td>0</td>\n",
       "      <td>0</td>\n",
       "      <td>0</td>\n",
       "      <td>1</td>\n",
       "      <td>0</td>\n",
       "      <td>0</td>\n",
       "      <td>0</td>\n",
       "      <td>0</td>\n",
       "      <td>0</td>\n",
       "      <td>0</td>\n",
       "      <td>0</td>\n",
       "      <td>1</td>\n",
       "      <td>1</td>\n",
       "      <td>0</td>\n",
       "      <td>0</td>\n",
       "      <td>0</td>\n",
       "      <td>0</td>\n",
       "      <td>0</td>\n",
       "      <td>0</td>\n",
       "      <td>0</td>\n",
       "      <td>1</td>\n",
       "      <td>0</td>\n",
       "      <td>0</td>\n",
       "      <td>0</td>\n",
       "      <td>0</td>\n",
       "      <td>0</td>\n",
       "      <td>0</td>\n",
       "      <td>1</td>\n",
       "      <td>0</td>\n",
       "      <td>0</td>\n",
       "      <td>0</td>\n",
       "      <td>0</td>\n",
       "      <td>0</td>\n",
       "      <td>0</td>\n",
       "      <td>0</td>\n",
       "      <td>1</td>\n",
       "      <td>0</td>\n",
       "      <td>0</td>\n",
       "      <td>0</td>\n",
       "      <td>0</td>\n",
       "      <td>0</td>\n",
       "      <td>0</td>\n",
       "      <td>0</td>\n",
       "      <td>0</td>\n",
       "      <td>0</td>\n",
       "      <td>0</td>\n",
       "      <td>0</td>\n",
       "      <td>0</td>\n",
       "      <td>0</td>\n",
       "      <td>0</td>\n",
       "      <td>0</td>\n",
       "      <td>0</td>\n",
       "      <td>0</td>\n",
       "      <td>0</td>\n",
       "      <td>0</td>\n",
       "      <td>0</td>\n",
       "      <td>0</td>\n",
       "      <td>0</td>\n",
       "      <td>0</td>\n",
       "      <td>0</td>\n",
       "      <td>0</td>\n",
       "      <td>0</td>\n",
       "      <td>0</td>\n",
       "      <td>0</td>\n",
       "      <td>0</td>\n",
       "      <td>0</td>\n",
       "      <td>0</td>\n",
       "      <td>0</td>\n",
       "      <td>0</td>\n",
       "      <td>0</td>\n",
       "      <td>0</td>\n",
       "      <td>0</td>\n",
       "      <td>0</td>\n",
       "      <td>0</td>\n",
       "      <td>0</td>\n",
       "      <td>0</td>\n",
       "      <td>0</td>\n",
       "      <td>0</td>\n",
       "    </tr>\n",
       "    <tr>\n",
       "      <th>10</th>\n",
       "      <td>0</td>\n",
       "      <td>0</td>\n",
       "      <td>0</td>\n",
       "      <td>0</td>\n",
       "      <td>0</td>\n",
       "      <td>0</td>\n",
       "      <td>0</td>\n",
       "      <td>1</td>\n",
       "      <td>0</td>\n",
       "      <td>0</td>\n",
       "      <td>1</td>\n",
       "      <td>0</td>\n",
       "      <td>0</td>\n",
       "      <td>0</td>\n",
       "      <td>1</td>\n",
       "      <td>0</td>\n",
       "      <td>0</td>\n",
       "      <td>1</td>\n",
       "      <td>0</td>\n",
       "      <td>0</td>\n",
       "      <td>0</td>\n",
       "      <td>0</td>\n",
       "      <td>1</td>\n",
       "      <td>0</td>\n",
       "      <td>0</td>\n",
       "      <td>0</td>\n",
       "      <td>1</td>\n",
       "      <td>0</td>\n",
       "      <td>1</td>\n",
       "      <td>0</td>\n",
       "      <td>0</td>\n",
       "      <td>0</td>\n",
       "      <td>0</td>\n",
       "      <td>1</td>\n",
       "      <td>0</td>\n",
       "      <td>0</td>\n",
       "      <td>0</td>\n",
       "      <td>0</td>\n",
       "      <td>0</td>\n",
       "      <td>0</td>\n",
       "      <td>0</td>\n",
       "      <td>0</td>\n",
       "      <td>0</td>\n",
       "      <td>1</td>\n",
       "      <td>1</td>\n",
       "      <td>0</td>\n",
       "      <td>1</td>\n",
       "      <td>1</td>\n",
       "      <td>0</td>\n",
       "      <td>1</td>\n",
       "      <td>1</td>\n",
       "      <td>0</td>\n",
       "      <td>0</td>\n",
       "      <td>0</td>\n",
       "      <td>0</td>\n",
       "      <td>0</td>\n",
       "      <td>0</td>\n",
       "      <td>0</td>\n",
       "      <td>0</td>\n",
       "      <td>0</td>\n",
       "      <td>1</td>\n",
       "      <td>0</td>\n",
       "      <td>1</td>\n",
       "      <td>1</td>\n",
       "      <td>1</td>\n",
       "      <td>1</td>\n",
       "      <td>0</td>\n",
       "      <td>0</td>\n",
       "      <td>0</td>\n",
       "      <td>0</td>\n",
       "      <td>1</td>\n",
       "      <td>0</td>\n",
       "      <td>1</td>\n",
       "      <td>0</td>\n",
       "      <td>0</td>\n",
       "      <td>1</td>\n",
       "      <td>0</td>\n",
       "      <td>0</td>\n",
       "      <td>0</td>\n",
       "      <td>0</td>\n",
       "      <td>0</td>\n",
       "      <td>0</td>\n",
       "      <td>0</td>\n",
       "      <td>0</td>\n",
       "      <td>0</td>\n",
       "      <td>0</td>\n",
       "      <td>0</td>\n",
       "      <td>0</td>\n",
       "      <td>0</td>\n",
       "      <td>0</td>\n",
       "      <td>0</td>\n",
       "      <td>0</td>\n",
       "      <td>0</td>\n",
       "      <td>0</td>\n",
       "      <td>0</td>\n",
       "      <td>0</td>\n",
       "      <td>0</td>\n",
       "      <td>0</td>\n",
       "      <td>0</td>\n",
       "      <td>0</td>\n",
       "      <td>0</td>\n",
       "      <td>0</td>\n",
       "      <td>0</td>\n",
       "      <td>0</td>\n",
       "      <td>0</td>\n",
       "      <td>0</td>\n",
       "      <td>0</td>\n",
       "      <td>0</td>\n",
       "      <td>0</td>\n",
       "      <td>0</td>\n",
       "      <td>1</td>\n",
       "      <td>0</td>\n",
       "      <td>0</td>\n",
       "      <td>0</td>\n",
       "      <td>0</td>\n",
       "      <td>0</td>\n",
       "      <td>0</td>\n",
       "      <td>0</td>\n",
       "      <td>0</td>\n",
       "      <td>0</td>\n",
       "      <td>0</td>\n",
       "      <td>0</td>\n",
       "      <td>0</td>\n",
       "      <td>0</td>\n",
       "      <td>0</td>\n",
       "      <td>0</td>\n",
       "      <td>0</td>\n",
       "      <td>0</td>\n",
       "      <td>0</td>\n",
       "      <td>0</td>\n",
       "    </tr>\n",
       "    <tr>\n",
       "      <th>11</th>\n",
       "      <td>0</td>\n",
       "      <td>0</td>\n",
       "      <td>0</td>\n",
       "      <td>0</td>\n",
       "      <td>1</td>\n",
       "      <td>0</td>\n",
       "      <td>0</td>\n",
       "      <td>0</td>\n",
       "      <td>0</td>\n",
       "      <td>0</td>\n",
       "      <td>1</td>\n",
       "      <td>0</td>\n",
       "      <td>0</td>\n",
       "      <td>0</td>\n",
       "      <td>1</td>\n",
       "      <td>0</td>\n",
       "      <td>0</td>\n",
       "      <td>1</td>\n",
       "      <td>0</td>\n",
       "      <td>0</td>\n",
       "      <td>0</td>\n",
       "      <td>0</td>\n",
       "      <td>1</td>\n",
       "      <td>0</td>\n",
       "      <td>0</td>\n",
       "      <td>0</td>\n",
       "      <td>1</td>\n",
       "      <td>0</td>\n",
       "      <td>0</td>\n",
       "      <td>0</td>\n",
       "      <td>0</td>\n",
       "      <td>0</td>\n",
       "      <td>0</td>\n",
       "      <td>1</td>\n",
       "      <td>0</td>\n",
       "      <td>0</td>\n",
       "      <td>0</td>\n",
       "      <td>0</td>\n",
       "      <td>0</td>\n",
       "      <td>0</td>\n",
       "      <td>0</td>\n",
       "      <td>0</td>\n",
       "      <td>1</td>\n",
       "      <td>0</td>\n",
       "      <td>0</td>\n",
       "      <td>0</td>\n",
       "      <td>0</td>\n",
       "      <td>0</td>\n",
       "      <td>0</td>\n",
       "      <td>0</td>\n",
       "      <td>0</td>\n",
       "      <td>0</td>\n",
       "      <td>0</td>\n",
       "      <td>0</td>\n",
       "      <td>0</td>\n",
       "      <td>0</td>\n",
       "      <td>0</td>\n",
       "      <td>0</td>\n",
       "      <td>1</td>\n",
       "      <td>0</td>\n",
       "      <td>0</td>\n",
       "      <td>0</td>\n",
       "      <td>0</td>\n",
       "      <td>1</td>\n",
       "      <td>0</td>\n",
       "      <td>1</td>\n",
       "      <td>0</td>\n",
       "      <td>0</td>\n",
       "      <td>0</td>\n",
       "      <td>0</td>\n",
       "      <td>0</td>\n",
       "      <td>0</td>\n",
       "      <td>1</td>\n",
       "      <td>0</td>\n",
       "      <td>0</td>\n",
       "      <td>0</td>\n",
       "      <td>0</td>\n",
       "      <td>0</td>\n",
       "      <td>0</td>\n",
       "      <td>0</td>\n",
       "      <td>0</td>\n",
       "      <td>1</td>\n",
       "      <td>0</td>\n",
       "      <td>0</td>\n",
       "      <td>0</td>\n",
       "      <td>0</td>\n",
       "      <td>0</td>\n",
       "      <td>0</td>\n",
       "      <td>0</td>\n",
       "      <td>0</td>\n",
       "      <td>0</td>\n",
       "      <td>0</td>\n",
       "      <td>0</td>\n",
       "      <td>0</td>\n",
       "      <td>0</td>\n",
       "      <td>0</td>\n",
       "      <td>0</td>\n",
       "      <td>0</td>\n",
       "      <td>0</td>\n",
       "      <td>0</td>\n",
       "      <td>0</td>\n",
       "      <td>0</td>\n",
       "      <td>0</td>\n",
       "      <td>0</td>\n",
       "      <td>0</td>\n",
       "      <td>0</td>\n",
       "      <td>0</td>\n",
       "      <td>0</td>\n",
       "      <td>0</td>\n",
       "      <td>0</td>\n",
       "      <td>0</td>\n",
       "      <td>0</td>\n",
       "      <td>0</td>\n",
       "      <td>0</td>\n",
       "      <td>0</td>\n",
       "      <td>0</td>\n",
       "      <td>0</td>\n",
       "      <td>0</td>\n",
       "      <td>0</td>\n",
       "      <td>0</td>\n",
       "      <td>0</td>\n",
       "      <td>0</td>\n",
       "      <td>0</td>\n",
       "      <td>0</td>\n",
       "      <td>0</td>\n",
       "      <td>0</td>\n",
       "      <td>0</td>\n",
       "      <td>0</td>\n",
       "      <td>0</td>\n",
       "      <td>0</td>\n",
       "    </tr>\n",
       "  </tbody>\n",
       "</table>\n",
       "</div>"
      ],
      "text/plain": [
       "    Hispanic Ethnicity  LGBTQ+  Region Served_HUDSON RIVER REGION  \\\n",
       "5                    0       0                                  1   \n",
       "7                    0       0                                  1   \n",
       "9                    1       0                                  1   \n",
       "10                   0       0                                  0   \n",
       "11                   0       0                                  0   \n",
       "\n",
       "    Region Served_LONG ISLAND REGION  Region Served_NEW YORK CITY REGION  \\\n",
       "5                                  0                                   0   \n",
       "7                                  0                                   0   \n",
       "9                                  0                                   0   \n",
       "10                                 0                                   0   \n",
       "11                                 0                                   1   \n",
       "\n",
       "    Region Served_WESTERN REGION  Age Group_CHILD  Sex_MALE  \\\n",
       "5                              0                0         1   \n",
       "7                              0                0         1   \n",
       "9                              0                0         1   \n",
       "10                             0                0         1   \n",
       "11                             0                0         0   \n",
       "\n",
       "    Race_MULTI-RACIAL  Race_OTHER  Race_WHITE ONLY  \\\n",
       "5                   0           0                0   \n",
       "7                   0           0                0   \n",
       "9                   1           0                0   \n",
       "10                  0           0                1   \n",
       "11                  0           0                1   \n",
       "\n",
       "    Living Situation_OTHER LIVING SITUATION  \\\n",
       "5                                         1   \n",
       "7                                         1   \n",
       "9                                         1   \n",
       "10                                        0   \n",
       "11                                        0   \n",
       "\n",
       "    Living Situation_PRIVATE RESIDENCE  Household Composition_LIVES ALONE  \\\n",
       "5                                    0                                  0   \n",
       "7                                    0                                  0   \n",
       "9                                    0                                  0   \n",
       "10                                   0                                  0   \n",
       "11                                   0                                  0   \n",
       "\n",
       "    Household Composition_NOT APPLICABLE  \\\n",
       "5                                      1   \n",
       "7                                      1   \n",
       "9                                      1   \n",
       "10                                     1   \n",
       "11                                     1   \n",
       "\n",
       "    Preferred Language_ALL OTHER LANGUAGES  \\\n",
       "5                                        0   \n",
       "7                                        0   \n",
       "9                                        0   \n",
       "10                                       0   \n",
       "11                                       0   \n",
       "\n",
       "    Preferred Language_ASIAN AND PACIFIC ISLAND  Preferred Language_ENGLISH  \\\n",
       "5                                             0                           1   \n",
       "7                                             0                           1   \n",
       "9                                             0                           1   \n",
       "10                                            0                           1   \n",
       "11                                            0                           1   \n",
       "\n",
       "    Preferred Language_INDO-EUROPEAN  Preferred Language_SPANISH  \\\n",
       "5                                  0                           0   \n",
       "7                                  0                           0   \n",
       "9                                  0                           0   \n",
       "10                                 0                           0   \n",
       "11                                 0                           0   \n",
       "\n",
       "    Veteran Status_YES  Employment Status_NON-PAID/VOLUNTEER  \\\n",
       "5                    0                                     0   \n",
       "7                    1                                     0   \n",
       "9                    0                                     0   \n",
       "10                   0                                     0   \n",
       "11                   0                                     0   \n",
       "\n",
       "    Employment Status_NOT IN LABOR FORCE:UNEMPLOYED AND NOT LOOKING FOR WORK  \\\n",
       "5                                                   1                          \n",
       "7                                                   1                          \n",
       "9                                                   1                          \n",
       "10                                                  1                          \n",
       "11                                                  1                          \n",
       "\n",
       "    Employment Status_UNEMPLOYED, LOOKING FOR WORK  \\\n",
       "5                                                0   \n",
       "7                                                0   \n",
       "9                                                0   \n",
       "10                                               0   \n",
       "11                                               0   \n",
       "\n",
       "    Number Of Hours Worked Each Week_15-34 HOURS  \\\n",
       "5                                              0   \n",
       "7                                              0   \n",
       "9                                              0   \n",
       "10                                             0   \n",
       "11                                             0   \n",
       "\n",
       "    Number Of Hours Worked Each Week_35 HOURS OR MORE  \\\n",
       "5                                                   0   \n",
       "7                                                   0   \n",
       "9                                                   0   \n",
       "10                                                  0   \n",
       "11                                                  0   \n",
       "\n",
       "    Number Of Hours Worked Each Week_NOT APPLICABLE  \\\n",
       "5                                                 1   \n",
       "7                                                 1   \n",
       "9                                                 1   \n",
       "10                                                1   \n",
       "11                                                1   \n",
       "\n",
       "    Number Of Hours Worked Each Week_UNKNOWN EMPLOYMENT HOURS  \\\n",
       "5                                                   0           \n",
       "7                                                   0           \n",
       "9                                                   0           \n",
       "10                                                  0           \n",
       "11                                                  0           \n",
       "\n",
       "    Education Status_MIDDLE SCHOOL TO HIGH SCHOOL  \\\n",
       "5                                               1   \n",
       "7                                               1   \n",
       "9                                               1   \n",
       "10                                              1   \n",
       "11                                              0   \n",
       "\n",
       "    Education Status_NO FORMAL EDUCATION  Education Status_OTHER  \\\n",
       "5                                      0                       0   \n",
       "7                                      0                       0   \n",
       "9                                      0                       0   \n",
       "10                                     0                       0   \n",
       "11                                     0                       0   \n",
       "\n",
       "    Education Status_PRE-K TO FIFTH GRADE  Education Status_SOME COLLEGE  \\\n",
       "5                                       0                              0   \n",
       "7                                       0                              0   \n",
       "9                                       0                              0   \n",
       "10                                      0                              0   \n",
       "11                                      0                              0   \n",
       "\n",
       "    Special Education Services_NOT APPLICABLE  Special Education Services_YES  \\\n",
       "5                                           1                               0   \n",
       "7                                           1                               0   \n",
       "9                                           1                               0   \n",
       "10                                          1                               0   \n",
       "11                                          1                               0   \n",
       "\n",
       "    Intellectual Disability_YES  Autism Spectrum_YES  \\\n",
       "5                             0                    0   \n",
       "7                             0                    0   \n",
       "9                             0                    0   \n",
       "10                            0                    0   \n",
       "11                            0                    0   \n",
       "\n",
       "    Other Developmental Disability_YES  Alcohol Related Disorder_YES  \\\n",
       "5                                    0                             1   \n",
       "7                                    0                             1   \n",
       "9                                    0                             0   \n",
       "10                                   0                             0   \n",
       "11                                   0                             0   \n",
       "\n",
       "    Drug Substance Disorder_YES  Mobility Impairment Disorder_YES  \\\n",
       "5                             1                                 0   \n",
       "7                             0                                 0   \n",
       "9                             0                                 0   \n",
       "10                            0                                 0   \n",
       "11                            0                                 0   \n",
       "\n",
       "    Hearing Visual Impairment_YES  Hyperlipidemia_YES  \\\n",
       "5                               0                   0   \n",
       "7                               0                   0   \n",
       "9                               1                   0   \n",
       "10                              0                   0   \n",
       "11                              0                   1   \n",
       "\n",
       "    High Blood Pressure_YES  Diabetes_YES  Obesity_YES  Heart Attack_YES  \\\n",
       "5                         0             0            1                 0   \n",
       "7                         0             0            0                 0   \n",
       "9                         0             0            0                 0   \n",
       "10                        1             1            0                 1   \n",
       "11                        0             0            0                 0   \n",
       "\n",
       "    Stroke_YES  Other Cardiac_YES  Pulmonary Asthma_YES  \\\n",
       "5            0                  0                     1   \n",
       "7            0                  0                     0   \n",
       "9            0                  0                     0   \n",
       "10           1                  0                     1   \n",
       "11           0                  0                     0   \n",
       "\n",
       "    Alzheimer or Dementia_YES  Kidney Disease_YES  Liver Disease_YES  \\\n",
       "5                           0                   0                  0   \n",
       "7                           0                   0                  0   \n",
       "9                           0                   0                  0   \n",
       "10                          1                   0                  0   \n",
       "11                          0                   0                  0   \n",
       "\n",
       "    Endocrine Condition_YES  Neurological Condition_YES  \\\n",
       "5                         0                           0   \n",
       "7                         0                           0   \n",
       "9                         0                           0   \n",
       "10                        0                           0   \n",
       "11                        0                           0   \n",
       "\n",
       "    Traumatic Brain Injury_YES  Joint Disease_YES  Cancer_YES  \\\n",
       "5                            0                  0           0   \n",
       "7                            0                  0           0   \n",
       "9                            1                  0           0   \n",
       "10                           0                  0           0   \n",
       "11                           0                  0           0   \n",
       "\n",
       "    Other Chronic Med Condition_YES  No Chronic Med Condition_YES  Smokes_YES  \\\n",
       "5                                 0                             0           0   \n",
       "7                                 1                             0           0   \n",
       "9                                 0                             0           0   \n",
       "10                                0                             0           1   \n",
       "11                                1                             0           0   \n",
       "\n",
       "    Received Smoking Medication_YES  Received Smoking Counseling_YES  \\\n",
       "5                                 0                                0   \n",
       "7                                 0                                1   \n",
       "9                                 0                                0   \n",
       "10                                0                                1   \n",
       "11                                0                                0   \n",
       "\n",
       "    Serious Mental Illness_YES  SSI Cash Assistance_YES  \\\n",
       "5                            1                        0   \n",
       "7                            1                        0   \n",
       "9                            1                        1   \n",
       "10                           1                        1   \n",
       "11                           1                        0   \n",
       "\n",
       "    SSDI Cash Assistance_YES  Veterans Disability Benefits_YES  \\\n",
       "5                          0                                 0   \n",
       "7                          0                                 0   \n",
       "9                          0                                 0   \n",
       "10                         1                                 0   \n",
       "11                         1                                 0   \n",
       "\n",
       "    Veterans Cash Assistance_YES  Public Assistance Cash Program_YES  \\\n",
       "5                              0                                   0   \n",
       "7                              0                                   1   \n",
       "9                              0                                   0   \n",
       "10                             0                                   0   \n",
       "11                             0                                   0   \n",
       "\n",
       "    Other Cash Benefits_YES  Medicaid and Medicare Insurance_YES  \\\n",
       "5                         0                                    0   \n",
       "7                         0                                    0   \n",
       "9                         0                                    0   \n",
       "10                        0                                    1   \n",
       "11                        0                                    0   \n",
       "\n",
       "    No Insurance_YES  Medicaid Insurance_YES  \\\n",
       "5                  1                       0   \n",
       "7                  0                       1   \n",
       "9                  0                       1   \n",
       "10                 0                       1   \n",
       "11                 0                       1   \n",
       "\n",
       "    Medicaid Managed Insurance_NOT APPLICABLE  Medicaid Managed Insurance_YES  \\\n",
       "5                                           1                               0   \n",
       "7                                           0                               0   \n",
       "9                                           0                               0   \n",
       "10                                          0                               0   \n",
       "11                                          0                               0   \n",
       "\n",
       "    Medicare Insurance_YES  Private Insurance_YES  \\\n",
       "5                        0                      0   \n",
       "7                        0                      0   \n",
       "9                        0                      0   \n",
       "10                       1                      0   \n",
       "11                       0                      0   \n",
       "\n",
       "    Child Health Plus Insurance_YES  Other Insurance_YES  \\\n",
       "5                                 0                    0   \n",
       "7                                 0                    0   \n",
       "9                                 0                    0   \n",
       "10                                0                    0   \n",
       "11                                0                    0   \n",
       "\n",
       "    Criminal Justice Status_YES  Three Digit Residence Zip Code_101  \\\n",
       "5                             1                                   0   \n",
       "7                             1                                   0   \n",
       "9                             1                                   0   \n",
       "10                            0                                   0   \n",
       "11                            0                                   0   \n",
       "\n",
       "    Three Digit Residence Zip Code_103  Three Digit Residence Zip Code_104  \\\n",
       "5                                    0                                   0   \n",
       "7                                    0                                   0   \n",
       "9                                    0                                   0   \n",
       "10                                   0                                   0   \n",
       "11                                   1                                   0   \n",
       "\n",
       "    Three Digit Residence Zip Code_105  Three Digit Residence Zip Code_106  \\\n",
       "5                                    0                                   0   \n",
       "7                                    0                                   0   \n",
       "9                                    0                                   0   \n",
       "10                                   0                                   0   \n",
       "11                                   0                                   0   \n",
       "\n",
       "    Three Digit Residence Zip Code_107  Three Digit Residence Zip Code_108  \\\n",
       "5                                    0                                   0   \n",
       "7                                    0                                   0   \n",
       "9                                    0                                   0   \n",
       "10                                   0                                   0   \n",
       "11                                   0                                   0   \n",
       "\n",
       "    Three Digit Residence Zip Code_109  Three Digit Residence Zip Code_110  \\\n",
       "5                                    0                                   0   \n",
       "7                                    0                                   0   \n",
       "9                                    1                                   0   \n",
       "10                                   0                                   0   \n",
       "11                                   0                                   0   \n",
       "\n",
       "    Three Digit Residence Zip Code_111  Three Digit Residence Zip Code_112  \\\n",
       "5                                    0                                   0   \n",
       "7                                    0                                   0   \n",
       "9                                    0                                   0   \n",
       "10                                   0                                   0   \n",
       "11                                   0                                   0   \n",
       "\n",
       "    Three Digit Residence Zip Code_113  Three Digit Residence Zip Code_114  \\\n",
       "5                                    1                                   0   \n",
       "7                                    0                                   0   \n",
       "9                                    0                                   0   \n",
       "10                                   0                                   0   \n",
       "11                                   0                                   0   \n",
       "\n",
       "    Three Digit Residence Zip Code_115  Three Digit Residence Zip Code_116  \\\n",
       "5                                    0                                   0   \n",
       "7                                    0                                   0   \n",
       "9                                    0                                   0   \n",
       "10                                   0                                   0   \n",
       "11                                   0                                   0   \n",
       "\n",
       "    Three Digit Residence Zip Code_117  Three Digit Residence Zip Code_118  \\\n",
       "5                                    0                                   0   \n",
       "7                                    0                                   0   \n",
       "9                                    0                                   0   \n",
       "10                                   0                                   0   \n",
       "11                                   0                                   0   \n",
       "\n",
       "    Three Digit Residence Zip Code_119  Three Digit Residence Zip Code_120  \\\n",
       "5                                    0                                   0   \n",
       "7                                    0                                   0   \n",
       "9                                    0                                   0   \n",
       "10                                   0                                   0   \n",
       "11                                   0                                   0   \n",
       "\n",
       "    Three Digit Residence Zip Code_121  Three Digit Residence Zip Code_122  \\\n",
       "5                                    0                                   0   \n",
       "7                                    0                                   0   \n",
       "9                                    0                                   0   \n",
       "10                                   0                                   0   \n",
       "11                                   0                                   0   \n",
       "\n",
       "    Three Digit Residence Zip Code_123  Three Digit Residence Zip Code_124  \\\n",
       "5                                    0                                   0   \n",
       "7                                    0                                   0   \n",
       "9                                    0                                   0   \n",
       "10                                   0                                   0   \n",
       "11                                   0                                   0   \n",
       "\n",
       "    Three Digit Residence Zip Code_125  Three Digit Residence Zip Code_126  \\\n",
       "5                                    0                                   0   \n",
       "7                                    0                                   0   \n",
       "9                                    0                                   0   \n",
       "10                                   0                                   0   \n",
       "11                                   0                                   0   \n",
       "\n",
       "    Three Digit Residence Zip Code_127  Three Digit Residence Zip Code_128  \\\n",
       "5                                    0                                   0   \n",
       "7                                    0                                   0   \n",
       "9                                    0                                   0   \n",
       "10                                   0                                   0   \n",
       "11                                   0                                   0   \n",
       "\n",
       "    Three Digit Residence Zip Code_129  Three Digit Residence Zip Code_130  \\\n",
       "5                                    0                                   0   \n",
       "7                                    0                                   1   \n",
       "9                                    0                                   0   \n",
       "10                                   0                                   0   \n",
       "11                                   0                                   0   \n",
       "\n",
       "    Three Digit Residence Zip Code_131  Three Digit Residence Zip Code_132  \\\n",
       "5                                    0                                   0   \n",
       "7                                    0                                   0   \n",
       "9                                    0                                   0   \n",
       "10                                   0                                   1   \n",
       "11                                   0                                   0   \n",
       "\n",
       "    Three Digit Residence Zip Code_133  Three Digit Residence Zip Code_134  \\\n",
       "5                                    0                                   0   \n",
       "7                                    0                                   0   \n",
       "9                                    0                                   0   \n",
       "10                                   0                                   0   \n",
       "11                                   0                                   0   \n",
       "\n",
       "    Three Digit Residence Zip Code_135  Three Digit Residence Zip Code_136  \\\n",
       "5                                    0                                   0   \n",
       "7                                    0                                   0   \n",
       "9                                    0                                   0   \n",
       "10                                   0                                   0   \n",
       "11                                   0                                   0   \n",
       "\n",
       "    Three Digit Residence Zip Code_137  Three Digit Residence Zip Code_138  \\\n",
       "5                                    0                                   0   \n",
       "7                                    0                                   0   \n",
       "9                                    0                                   0   \n",
       "10                                   0                                   0   \n",
       "11                                   0                                   0   \n",
       "\n",
       "    Three Digit Residence Zip Code_139  Three Digit Residence Zip Code_140  \\\n",
       "5                                    0                                   0   \n",
       "7                                    0                                   0   \n",
       "9                                    0                                   0   \n",
       "10                                   0                                   0   \n",
       "11                                   0                                   0   \n",
       "\n",
       "    Three Digit Residence Zip Code_141  Three Digit Residence Zip Code_142  \\\n",
       "5                                    0                                   0   \n",
       "7                                    0                                   0   \n",
       "9                                    0                                   0   \n",
       "10                                   0                                   0   \n",
       "11                                   0                                   0   \n",
       "\n",
       "    Three Digit Residence Zip Code_143  Three Digit Residence Zip Code_144  \\\n",
       "5                                    0                                   0   \n",
       "7                                    0                                   0   \n",
       "9                                    0                                   0   \n",
       "10                                   0                                   0   \n",
       "11                                   0                                   0   \n",
       "\n",
       "    Three Digit Residence Zip Code_145  Three Digit Residence Zip Code_146  \\\n",
       "5                                    0                                   0   \n",
       "7                                    0                                   0   \n",
       "9                                    0                                   0   \n",
       "10                                   0                                   0   \n",
       "11                                   0                                   0   \n",
       "\n",
       "    Three Digit Residence Zip Code_147  Three Digit Residence Zip Code_148  \\\n",
       "5                                    0                                   0   \n",
       "7                                    0                                   0   \n",
       "9                                    0                                   0   \n",
       "10                                   0                                   0   \n",
       "11                                   0                                   0   \n",
       "\n",
       "    Three Digit Residence Zip Code_149  Three Digit Residence Zip Code_888  \\\n",
       "5                                    0                                   0   \n",
       "7                                    0                                   0   \n",
       "9                                    0                                   0   \n",
       "10                                   0                                   0   \n",
       "11                                   0                                   0   \n",
       "\n",
       "    Three Digit Residence Zip Code_999  \n",
       "5                                    0  \n",
       "7                                    0  \n",
       "9                                    0  \n",
       "10                                   0  \n",
       "11                                   0  "
      ]
     },
     "execution_count": 23,
     "metadata": {},
     "output_type": "execute_result"
    }
   ],
   "source": [
    "# Get dummies\n",
    "data_OHE = pd.get_dummies(nys_omh, prefix_sep='_', drop_first=True)\n",
    "# X head\n",
    "data_OHE.head()"
   ]
  },
  {
   "cell_type": "markdown",
   "metadata": {},
   "source": [
    "Here are our final collection of encoded columns."
   ]
  },
  {
   "cell_type": "code",
   "execution_count": 24,
   "metadata": {},
   "outputs": [
    {
     "data": {
      "text/plain": [
       "Index(['Hispanic Ethnicity', 'LGBTQ+', 'Region Served_HUDSON RIVER REGION',\n",
       "       'Region Served_LONG ISLAND REGION',\n",
       "       'Region Served_NEW YORK CITY REGION', 'Region Served_WESTERN REGION',\n",
       "       'Age Group_CHILD', 'Sex_MALE', 'Race_MULTI-RACIAL', 'Race_OTHER',\n",
       "       'Race_WHITE ONLY', 'Living Situation_OTHER LIVING SITUATION',\n",
       "       'Living Situation_PRIVATE RESIDENCE',\n",
       "       'Household Composition_LIVES ALONE',\n",
       "       'Household Composition_NOT APPLICABLE',\n",
       "       'Preferred Language_ALL OTHER LANGUAGES',\n",
       "       'Preferred Language_ASIAN AND PACIFIC ISLAND',\n",
       "       'Preferred Language_ENGLISH', 'Preferred Language_INDO-EUROPEAN',\n",
       "       'Preferred Language_SPANISH', 'Veteran Status_YES',\n",
       "       'Employment Status_NON-PAID/VOLUNTEER',\n",
       "       'Employment Status_NOT IN LABOR FORCE:UNEMPLOYED AND NOT LOOKING FOR WORK',\n",
       "       'Employment Status_UNEMPLOYED, LOOKING FOR WORK',\n",
       "       'Number Of Hours Worked Each Week_15-34 HOURS',\n",
       "       'Number Of Hours Worked Each Week_35 HOURS OR MORE',\n",
       "       'Number Of Hours Worked Each Week_NOT APPLICABLE',\n",
       "       'Number Of Hours Worked Each Week_UNKNOWN EMPLOYMENT HOURS',\n",
       "       'Education Status_MIDDLE SCHOOL TO HIGH SCHOOL',\n",
       "       'Education Status_NO FORMAL EDUCATION', 'Education Status_OTHER',\n",
       "       'Education Status_PRE-K TO FIFTH GRADE',\n",
       "       'Education Status_SOME COLLEGE',\n",
       "       'Special Education Services_NOT APPLICABLE',\n",
       "       'Special Education Services_YES', 'Intellectual Disability_YES',\n",
       "       'Autism Spectrum_YES', 'Other Developmental Disability_YES',\n",
       "       'Alcohol Related Disorder_YES', 'Drug Substance Disorder_YES',\n",
       "       'Mobility Impairment Disorder_YES', 'Hearing Visual Impairment_YES',\n",
       "       'Hyperlipidemia_YES', 'High Blood Pressure_YES', 'Diabetes_YES',\n",
       "       'Obesity_YES', 'Heart Attack_YES', 'Stroke_YES', 'Other Cardiac_YES',\n",
       "       'Pulmonary Asthma_YES', 'Alzheimer or Dementia_YES',\n",
       "       'Kidney Disease_YES', 'Liver Disease_YES', 'Endocrine Condition_YES',\n",
       "       'Neurological Condition_YES', 'Traumatic Brain Injury_YES',\n",
       "       'Joint Disease_YES', 'Cancer_YES', 'Other Chronic Med Condition_YES',\n",
       "       'No Chronic Med Condition_YES', 'Smokes_YES',\n",
       "       'Received Smoking Medication_YES', 'Received Smoking Counseling_YES',\n",
       "       'Serious Mental Illness_YES', 'SSI Cash Assistance_YES',\n",
       "       'SSDI Cash Assistance_YES', 'Veterans Disability Benefits_YES',\n",
       "       'Veterans Cash Assistance_YES', 'Public Assistance Cash Program_YES',\n",
       "       'Other Cash Benefits_YES', 'Medicaid and Medicare Insurance_YES',\n",
       "       'No Insurance_YES', 'Medicaid Insurance_YES',\n",
       "       'Medicaid Managed Insurance_NOT APPLICABLE',\n",
       "       'Medicaid Managed Insurance_YES', 'Medicare Insurance_YES',\n",
       "       'Private Insurance_YES', 'Child Health Plus Insurance_YES',\n",
       "       'Other Insurance_YES', 'Criminal Justice Status_YES',\n",
       "       'Three Digit Residence Zip Code_101',\n",
       "       'Three Digit Residence Zip Code_103',\n",
       "       'Three Digit Residence Zip Code_104',\n",
       "       'Three Digit Residence Zip Code_105',\n",
       "       'Three Digit Residence Zip Code_106',\n",
       "       'Three Digit Residence Zip Code_107',\n",
       "       'Three Digit Residence Zip Code_108',\n",
       "       'Three Digit Residence Zip Code_109',\n",
       "       'Three Digit Residence Zip Code_110',\n",
       "       'Three Digit Residence Zip Code_111',\n",
       "       'Three Digit Residence Zip Code_112',\n",
       "       'Three Digit Residence Zip Code_113',\n",
       "       'Three Digit Residence Zip Code_114',\n",
       "       'Three Digit Residence Zip Code_115',\n",
       "       'Three Digit Residence Zip Code_116',\n",
       "       'Three Digit Residence Zip Code_117',\n",
       "       'Three Digit Residence Zip Code_118',\n",
       "       'Three Digit Residence Zip Code_119',\n",
       "       'Three Digit Residence Zip Code_120',\n",
       "       'Three Digit Residence Zip Code_121',\n",
       "       'Three Digit Residence Zip Code_122',\n",
       "       'Three Digit Residence Zip Code_123',\n",
       "       'Three Digit Residence Zip Code_124',\n",
       "       'Three Digit Residence Zip Code_125',\n",
       "       'Three Digit Residence Zip Code_126',\n",
       "       'Three Digit Residence Zip Code_127',\n",
       "       'Three Digit Residence Zip Code_128',\n",
       "       'Three Digit Residence Zip Code_129',\n",
       "       'Three Digit Residence Zip Code_130',\n",
       "       'Three Digit Residence Zip Code_131',\n",
       "       'Three Digit Residence Zip Code_132',\n",
       "       'Three Digit Residence Zip Code_133',\n",
       "       'Three Digit Residence Zip Code_134',\n",
       "       'Three Digit Residence Zip Code_135',\n",
       "       'Three Digit Residence Zip Code_136',\n",
       "       'Three Digit Residence Zip Code_137',\n",
       "       'Three Digit Residence Zip Code_138',\n",
       "       'Three Digit Residence Zip Code_139',\n",
       "       'Three Digit Residence Zip Code_140',\n",
       "       'Three Digit Residence Zip Code_141',\n",
       "       'Three Digit Residence Zip Code_142',\n",
       "       'Three Digit Residence Zip Code_143',\n",
       "       'Three Digit Residence Zip Code_144',\n",
       "       'Three Digit Residence Zip Code_145',\n",
       "       'Three Digit Residence Zip Code_146',\n",
       "       'Three Digit Residence Zip Code_147',\n",
       "       'Three Digit Residence Zip Code_148',\n",
       "       'Three Digit Residence Zip Code_149',\n",
       "       'Three Digit Residence Zip Code_888',\n",
       "       'Three Digit Residence Zip Code_999'],\n",
       "      dtype='object')"
      ]
     },
     "execution_count": 24,
     "metadata": {},
     "output_type": "execute_result"
    }
   ],
   "source": [
    "data_OHE.columns"
   ]
  },
  {
   "cell_type": "markdown",
   "metadata": {},
   "source": [
    "## Examining Feature Importance"
   ]
  },
  {
   "cell_type": "markdown",
   "metadata": {},
   "source": [
    "In this section we explored several methods to help select which features should be included in the model. Because the dataset contains so many categorical variables, narrowing down the features in our model could be important in ensuring we are not incorporating too many inconsequential or multicollinear variables. Additionally, because all of our variables were categorical, this seemed to be the best way to explore the dataset.\n"
   ]
  },
  {
   "cell_type": "markdown",
   "metadata": {},
   "source": [
    "### Removing Multicollinear Variables"
   ]
  },
  {
   "cell_type": "markdown",
   "metadata": {},
   "source": [
    "We began by removing highly multicollinear variables."
   ]
  },
  {
   "cell_type": "code",
   "execution_count": 25,
   "metadata": {
    "scrolled": false
   },
   "outputs": [
    {
     "data": {
      "text/plain": [
       "Medicaid Insurance_YES                                                    Medicaid Managed Insurance_NOT APPLICABLE          1.000000\n",
       "Living Situation_PRIVATE RESIDENCE                                        Household Composition_NOT APPLICABLE               1.000000\n",
       "Living Situation_OTHER LIVING SITUATION                                   Household Composition_NOT APPLICABLE               0.953050\n",
       "                                                                          Living Situation_PRIVATE RESIDENCE                 0.953050\n",
       "Age Group_CHILD                                                           Special Education Services_NOT APPLICABLE          0.911378\n",
       "Preferred Language_ENGLISH                                                Preferred Language_SPANISH                         0.842946\n",
       "Medicaid and Medicare Insurance_YES                                       Medicare Insurance_YES                             0.816124\n",
       "Region Served_LONG ISLAND REGION                                          Three Digit Residence Zip Code_117                 0.767460\n",
       "Special Education Services_NOT APPLICABLE                                 Special Education Services_YES                     0.720478\n",
       "Employment Status_NOT IN LABOR FORCE:UNEMPLOYED AND NOT LOOKING FOR WORK  Number Of Hours Worked Each Week_NOT APPLICABLE    0.681732\n",
       "Age Group_CHILD                                                           Special Education Services_YES                     0.651842\n",
       "Medicaid Insurance_YES                                                    Private Insurance_YES                              0.587987\n",
       "Medicaid Managed Insurance_NOT APPLICABLE                                 Private Insurance_YES                              0.587987\n",
       "Number Of Hours Worked Each Week_15-34 HOURS                              Number Of Hours Worked Each Week_NOT APPLICABLE    0.569100\n",
       "Number Of Hours Worked Each Week_35 HOURS OR MORE                         Number Of Hours Worked Each Week_NOT APPLICABLE    0.557750\n",
       "Employment Status_NOT IN LABOR FORCE:UNEMPLOYED AND NOT LOOKING FOR WORK  Employment Status_UNEMPLOYED, LOOKING FOR WORK     0.553359\n",
       "Smokes_YES                                                                Received Smoking Counseling_YES                    0.549968\n",
       "Medicaid Managed Insurance_NOT APPLICABLE                                 Medicaid Managed Insurance_YES                     0.542800\n",
       "Medicaid Insurance_YES                                                    Medicaid Managed Insurance_YES                     0.542800\n",
       "SSDI Cash Assistance_YES                                                  Medicare Insurance_YES                             0.542105\n",
       "Hispanic Ethnicity                                                        Race_OTHER                                         0.541644\n",
       "Education Status_MIDDLE SCHOOL TO HIGH SCHOOL                             Education Status_SOME COLLEGE                      0.536282\n",
       "SSDI Cash Assistance_YES                                                  Medicaid and Medicare Insurance_YES                0.475283\n",
       "Race_OTHER                                                                Race_WHITE ONLY                                    0.469524\n",
       "Age Group_CHILD                                                           Education Status_PRE-K TO FIFTH GRADE              0.449812\n",
       "Region Served_WESTERN REGION                                              Three Digit Residence Zip Code_142                 0.446714\n",
       "Hispanic Ethnicity                                                        Preferred Language_SPANISH                         0.444598\n",
       "Alcohol Related Disorder_YES                                              Drug Substance Disorder_YES                        0.444034\n",
       "Education Status_PRE-K TO FIFTH GRADE                                     Special Education Services_NOT APPLICABLE          0.422085\n",
       "Region Served_NEW YORK CITY REGION                                        Region Served_WESTERN REGION                       0.415545\n",
       "                                                                                                                               ...   \n",
       "Other Cardiac_YES                                                         Public Assistance Cash Program_YES                 0.000083\n",
       "Autism Spectrum_YES                                                       Three Digit Residence Zip Code_136                 0.000081\n",
       "Race_MULTI-RACIAL                                                         Employment Status_NON-PAID/VOLUNTEER               0.000081\n",
       "Employment Status_NON-PAID/VOLUNTEER                                      Cancer_YES                                         0.000073\n",
       "Education Status_NO FORMAL EDUCATION                                      Three Digit Residence Zip Code_140                 0.000072\n",
       "Endocrine Condition_YES                                                   Three Digit Residence Zip Code_115                 0.000068\n",
       "Obesity_YES                                                               Three Digit Residence Zip Code_137                 0.000064\n",
       "Preferred Language_ASIAN AND PACIFIC ISLAND                               Medicaid and Medicare Insurance_YES                0.000062\n",
       "Child Health Plus Insurance_YES                                           Three Digit Residence Zip Code_111                 0.000060\n",
       "Other Cardiac_YES                                                         Three Digit Residence Zip Code_125                 0.000060\n",
       "Other Developmental Disability_YES                                        Child Health Plus Insurance_YES                    0.000058\n",
       "No Insurance_YES                                                          Three Digit Residence Zip Code_126                 0.000057\n",
       "Preferred Language_ASIAN AND PACIFIC ISLAND                               Liver Disease_YES                                  0.000051\n",
       "Education Status_OTHER                                                    Criminal Justice Status_YES                        0.000046\n",
       "Drug Substance Disorder_YES                                               Joint Disease_YES                                  0.000043\n",
       "Employment Status_NON-PAID/VOLUNTEER                                      Three Digit Residence Zip Code_142                 0.000042\n",
       "Veterans Cash Assistance_YES                                              Three Digit Residence Zip Code_131                 0.000042\n",
       "Number Of Hours Worked Each Week_UNKNOWN EMPLOYMENT HOURS                 Three Digit Residence Zip Code_138                 0.000039\n",
       "Education Status_PRE-K TO FIFTH GRADE                                     Three Digit Residence Zip Code_131                 0.000038\n",
       "Diabetes_YES                                                              Three Digit Residence Zip Code_139                 0.000035\n",
       "No Chronic Med Condition_YES                                              Three Digit Residence Zip Code_134                 0.000035\n",
       "Hearing Visual Impairment_YES                                             Three Digit Residence Zip Code_119                 0.000034\n",
       "Region Served_WESTERN REGION                                              Education Status_MIDDLE SCHOOL TO HIGH SCHOOL      0.000033\n",
       "Stroke_YES                                                                Three Digit Residence Zip Code_143                 0.000029\n",
       "Education Status_NO FORMAL EDUCATION                                      Three Digit Residence Zip Code_125                 0.000025\n",
       "Autism Spectrum_YES                                                       Three Digit Residence Zip Code_138                 0.000020\n",
       "Education Status_NO FORMAL EDUCATION                                      Other Developmental Disability_YES                 0.000009\n",
       "Liver Disease_YES                                                         Three Digit Residence Zip Code_149                 0.000008\n",
       "Veterans Disability Benefits_YES                                          Three Digit Residence Zip Code_145                 0.000007\n",
       "Sex_MALE                                                                  Three Digit Residence Zip Code_116                 0.000005\n",
       "Length: 8385, dtype: float64"
      ]
     },
     "execution_count": 25,
     "metadata": {},
     "output_type": "execute_result"
    }
   ],
   "source": [
    "corr_matrix = data_OHE.corr().abs()\n",
    "\n",
    "sol = (corr_matrix.where(np.triu(np.ones(corr_matrix.shape), \n",
    "                                 k=1).astype(np.bool))\n",
    "                 .stack()\n",
    "                 .sort_values(ascending=False))\n",
    "\n",
    "sol"
   ]
  },
  {
   "cell_type": "code",
   "execution_count": 26,
   "metadata": {},
   "outputs": [],
   "source": [
    "data_OHE.drop(columns=['Medicaid Managed Insurance_NOT APPLICABLE', \n",
    "                       'Household Composition_NOT APPLICABLE',\n",
    "                       'Living Situation_OTHER LIVING SITUATION', #should we not remove this column?\n",
    "                       'Special Education Services_NOT APPLICABLE'], inplace=True)"
   ]
  },
  {
   "cell_type": "markdown",
   "metadata": {},
   "source": [
    "We elected to drop highly multicollinaer columns. This is because we are assuming:\n",
    "\n",
    "1) that the effects of Medicaid Managed will be captured by Medicaid Insurance_YES\n",
    "\n",
    "2) Living Situation_OTHER LIVING SITUATION and Household Composition_NOT APPLICABLE are, overall, mutually exclusive from Living Situation_PRIVATE RESIDENCE. In other words, people in 'Other' living situations are highly likely to be marked as '0' in 'PRIVATE RESIDENCE'\n",
    "\n",
    "3) The effect of 'Special Education Services_NOT APPLICABLE' will be encapsulated by 'Special Education Services_YES'"
   ]
  },
  {
   "cell_type": "markdown",
   "metadata": {},
   "source": [
    "Next, we created two subsets: one for our predictors and one for our variable of interest, Serious Mental Illness."
   ]
  },
  {
   "cell_type": "code",
   "execution_count": 27,
   "metadata": {},
   "outputs": [],
   "source": [
    "data_OHE_X = data_OHE.drop(columns = ['Serious Mental Illness_YES'])"
   ]
  },
  {
   "cell_type": "code",
   "execution_count": 28,
   "metadata": {},
   "outputs": [],
   "source": [
    "data_OHE_Y = data_OHE['Serious Mental Illness_YES']"
   ]
  },
  {
   "cell_type": "markdown",
   "metadata": {},
   "source": [
    "## Univariate Selection"
   ]
  },
  {
   "cell_type": "markdown",
   "metadata": {},
   "source": [
    "To start our examination of feature importance we decided to simply see which individual parameters are best at predicting Serious Mental Illness. While this was not incorporated into our final dataset, it was a useful exercise in exploring the data to see which features may be related to classifying Serious Mental Illness."
   ]
  },
  {
   "cell_type": "code",
   "execution_count": 29,
   "metadata": {
    "scrolled": false
   },
   "outputs": [
    {
     "name": "stdout",
     "output_type": "stream",
     "text": [
      "                                                 Specs       Score\n",
      "23   Number Of Hours Worked Each Week_35 HOURS OR MORE  714.186710\n",
      "60                             SSI Cash Assistance_YES  672.650233\n",
      "71                               Private Insurance_YES  491.960188\n",
      "59                     Received Smoking Counseling_YES  356.437645\n",
      "61                            SSDI Cash Assistance_YES  351.765243\n",
      "66                 Medicaid and Medicare Insurance_YES  329.776105\n",
      "70                              Medicare Insurance_YES  237.450252\n",
      "20   Employment Status_NOT IN LABOR FORCE:UNEMPLOYE...  201.858921\n",
      "31                      Special Education Services_YES  171.639587\n",
      "57                                          Smokes_YES  170.367101\n",
      "68                              Medicaid Insurance_YES  160.046656\n",
      "22        Number Of Hours Worked Each Week_15-34 HOURS  134.600423\n",
      "113                 Three Digit Residence Zip Code_140  131.661630\n",
      "119                 Three Digit Residence Zip Code_146  130.286247\n",
      "7                                             Sex_MALE  122.598003\n",
      "24     Number Of Hours Worked Each Week_NOT APPLICABLE  115.340479\n",
      "67                                    No Insurance_YES  106.679681\n",
      "58                     Received Smoking Medication_YES   93.807429\n",
      "11                  Living Situation_PRIVATE RESIDENCE   90.085084\n",
      "32                         Intellectual Disability_YES   88.983751\n",
      "5                         Region Served_WESTERN REGION   85.835602\n",
      "33                                 Autism Spectrum_YES   82.497862\n",
      "36                         Drug Substance Disorder_YES   79.399411\n",
      "3                     Region Served_LONG ISLAND REGION   72.639219\n",
      "102                 Three Digit Residence Zip Code_129   67.527326\n"
     ]
    }
   ],
   "source": [
    "#apply SelectKBest class to extract top 25 best features\n",
    "bestfeatures = SelectKBest(score_func=chi2, k=25)\n",
    "fit = bestfeatures.fit(data_OHE_X, data_OHE_Y)\n",
    "dfscores = pd.DataFrame(fit.scores_)\n",
    "dfcolumns = pd.DataFrame(data_OHE_X.columns)\n",
    "#concat two dataframes for better visualization \n",
    "featureScores = pd.concat([dfcolumns,dfscores],axis=1)\n",
    "featureScores.columns = ['Specs','Score']  #naming the dataframe columns\n",
    "print(featureScores.nlargest(25,'Score')) #25 best features\n",
    "\n",
    "x = featureScores.nlargest(25,'Score')"
   ]
  },
  {
   "cell_type": "markdown",
   "metadata": {},
   "source": [
    "According to univariate selection, the big individual predictors for serious mental illness include SSI Cash Assistance, working 35 or more hours per week, having private insurance (although this may be a result of having a serious mental illness), and receiving smoking counseling.\n"
   ]
  },
  {
   "cell_type": "markdown",
   "metadata": {},
   "source": [
    "## Correlation Matrix Heatmap"
   ]
  },
  {
   "cell_type": "markdown",
   "metadata": {},
   "source": [
    "Here we took the top 25 univariate selectors from above and create a correlation matrix heatmap. This will give us a sense of how much correlation exists among our predictors, and may help us determine which variables are redundant and can be removed prior to analysis. Again, this did not result in removal of attributes but helped us get a better sense of how some attributes interact."
   ]
  },
  {
   "cell_type": "code",
   "execution_count": 30,
   "metadata": {},
   "outputs": [],
   "source": [
    "z = x.Specs\n",
    "z = list(z)\n",
    "nys_z = data_OHE.filter(items = z)"
   ]
  },
  {
   "cell_type": "code",
   "execution_count": 31,
   "metadata": {},
   "outputs": [],
   "source": [
    "import seaborn as sns\n",
    "import matplotlib.pyplot as plt\n",
    "\n",
    "\n",
    "#get correlations of each features in dataset\n",
    "corrmat = nys_z.corr()\n",
    "top_corr_features = corrmat.index\n",
    "plt.figure(figsize=(20,20))\n",
    "#plot heat map\n",
    "g=sns.heatmap(nys_z[top_corr_features].corr(),annot=True,cmap=\"RdYlGn\")\n",
    "#Sometimes the correlation map doesn't show up after running the command, Please re-run it"
   ]
  },
  {
   "cell_type": "markdown",
   "metadata": {},
   "source": [
    "### Feature Importance with ExtraTreesClassifier"
   ]
  },
  {
   "cell_type": "markdown",
   "metadata": {},
   "source": [
    "Here we tried another method to get a sense of which features may be important by using the feature_importance parameter in sklearn's ExtraTreesClassifier algorithm. "
   ]
  },
  {
   "cell_type": "code",
   "execution_count": 32,
   "metadata": {
    "scrolled": false
   },
   "outputs": [
    {
     "name": "stdout",
     "output_type": "stream",
     "text": [
      "[0.01969757 0.02219355 0.01097254 0.00542584 0.01369425 0.01042939\n",
      " 0.01077552 0.02782821 0.00618096 0.01616843 0.02634093 0.0111135\n",
      " 0.02030585 0.0020375  0.00074774 0.00899182 0.0020947  0.00679507\n",
      " 0.00636328 0.00179933 0.01146174 0.00772103 0.0071016  0.00851624\n",
      " 0.00971225 0.00340259 0.02408061 0.00097131 0.00457176 0.0049135\n",
      " 0.02072571 0.00844315 0.01012322 0.00368496 0.00576407 0.01565789\n",
      " 0.0188656  0.00890711 0.01154495 0.01442724 0.01823767 0.0129728\n",
      " 0.01779297 0.00322125 0.00342397 0.00808913 0.01632142 0.00105999\n",
      " 0.00349744 0.00502063 0.00917041 0.00337091 0.00333548 0.01324783\n",
      " 0.00584527 0.02320365 0.02045981 0.0205725  0.0062244  0.01141643\n",
      " 0.02004166 0.01314506 0.00085797 0.00096022 0.0210543  0.01503404\n",
      " 0.00598775 0.00604569 0.01308484 0.01965628 0.00950537 0.01165304\n",
      " 0.00390945 0.00977207 0.01472315 0.00112422 0.00439822 0.01226313\n",
      " 0.00662685 0.00288208 0.00421599 0.00178181 0.00496311 0.00246548\n",
      " 0.00288445 0.0156556  0.00849661 0.00561806 0.00369364 0.00364203\n",
      " 0.00464135 0.00061183 0.00154438 0.0045386  0.00323377 0.00163052\n",
      " 0.00075917 0.00199278 0.00403236 0.00232019 0.00091253 0.0018615\n",
      " 0.00614855 0.00525395 0.00266396 0.0053099  0.00216869 0.0029646\n",
      " 0.00205071 0.00362488 0.00305035 0.00358415 0.00186356 0.00706656\n",
      " 0.00250993 0.00560979 0.00200137 0.00409686 0.00413141 0.0064702\n",
      " 0.00287038 0.00550614 0.00195931 0.0031843  0.00465281]\n"
     ]
    },
    {
     "data": {
      "image/png": "[encoded data removed]",
      "text/plain": [
       "<Figure size 432x288 with 1 Axes>"
      ]
     },
     "metadata": {
      "needs_background": "light"
     },
     "output_type": "display_data"
    }
   ],
   "source": [
    "from sklearn.ensemble import ExtraTreesClassifier\n",
    "import matplotlib.pyplot as plt\n",
    "model = ExtraTreesClassifier()\n",
    "model.fit(data_OHE_X, data_OHE_Y)\n",
    "print(model.feature_importances_) #use inbuilt class feature_importances of tree based classifiers\n",
    "#plot graph of feature importances for better visualization\n",
    "feat_importances = pd.Series(model.feature_importances_, index=data_OHE_X.columns)\n",
    "feat_importances.nlargest(10).plot(kind='barh')\n",
    "plt.show()"
   ]
  },
  {
   "cell_type": "markdown",
   "metadata": {},
   "source": [
    "This features showed very different attributes from the univariate model above. Here we saw that education status, race, sex, public assistance cash programs, smoking, and LGBTQ+ status may be important in predicting Serious Mental Illness. "
   ]
  },
  {
   "cell_type": "markdown",
   "metadata": {},
   "source": [
    "## Some Interesting Statistics"
   ]
  },
  {
   "cell_type": "code",
   "execution_count": 33,
   "metadata": {},
   "outputs": [],
   "source": [
    "mental_illness = data_OHE[data_OHE['Serious Mental Illness_YES'] == 1]"
   ]
  },
  {
   "cell_type": "code",
   "execution_count": 34,
   "metadata": {},
   "outputs": [
    {
     "data": {
      "text/plain": [
       "0.3670067299231885"
      ]
     },
     "execution_count": 34,
     "metadata": {},
     "output_type": "execute_result"
    }
   ],
   "source": [
    "len(mental_illness[mental_illness['Smokes_YES'] == 1]) /len(mental_illness)"
   ]
  },
  {
   "cell_type": "markdown",
   "metadata": {},
   "source": [
    "### 37 % of the people suffering from Serious Mental Ilness are smokers"
   ]
  },
  {
   "cell_type": "code",
   "execution_count": 35,
   "metadata": {
    "scrolled": true
   },
   "outputs": [
    {
     "data": {
      "text/plain": [
       "0.10922451309124634"
      ]
     },
     "execution_count": 35,
     "metadata": {},
     "output_type": "execute_result"
    }
   ],
   "source": [
    "len(mental_illness[mental_illness['LGBTQ+'] == 1]) /len(mental_illness)"
   ]
  },
  {
   "cell_type": "markdown",
   "metadata": {},
   "source": [
    "### 11% of all the people people suffering from Serious Mental Ilness belong to LGBTQ+ community"
   ]
  },
  {
   "cell_type": "code",
   "execution_count": 36,
   "metadata": {
    "scrolled": true
   },
   "outputs": [
    {
     "data": {
      "text/plain": [
       "0.2466290932439181"
      ]
     },
     "execution_count": 36,
     "metadata": {},
     "output_type": "execute_result"
    }
   ],
   "source": [
    "len(mental_illness[mental_illness['Household Composition_LIVES ALONE'] == 1]) /len(mental_illness)"
   ]
  },
  {
   "cell_type": "markdown",
   "metadata": {},
   "source": [
    "### 25% of the people suffering from Serious Mental Ilness live alone"
   ]
  },
  {
   "cell_type": "markdown",
   "metadata": {},
   "source": [
    "## Oversampling/Undersampling"
   ]
  },
  {
   "cell_type": "markdown",
   "metadata": {},
   "source": [
    "Our dataset was rather imbalanced; approximately 4 out of 5 people have been diagnosed with a serious mental illness. To avoid having all observations classified positively for Serious Mental Illness, we are going to take some steps to see if correcting this imbalance is necessary in building our model.\n",
    "\n",
    "We first separated our data into test/train sets to avoid the model overfitting to duplicated data points."
   ]
  },
  {
   "cell_type": "code",
   "execution_count": 37,
   "metadata": {},
   "outputs": [],
   "source": [
    "\n",
    "from sklearn.model_selection import train_test_split\n",
    "\n",
    "X_train, X_test, y_train, y_test = train_test_split(data_OHE_X, data_OHE_Y, test_size=0.25, random_state=27)"
   ]
  },
  {
   "cell_type": "markdown",
   "metadata": {},
   "source": [
    "## Random Forest"
   ]
  },
  {
   "cell_type": "markdown",
   "metadata": {},
   "source": [
    "### Random Forest with Base Data"
   ]
  },
  {
   "cell_type": "code",
   "execution_count": 41,
   "metadata": {},
   "outputs": [],
   "source": [
    "from sklearn.ensemble import RandomForestClassifier\n",
    "from sklearn.metrics import accuracy_score\n",
    "from sklearn.metrics import f1_score\n",
    "from sklearn.metrics import recall_score\n",
    "from sklearn.metrics import confusion_matrix\n",
    "from sklearn.metrics import precision_score\n",
    "\n",
    "# train model\n",
    "rfc = RandomForestClassifier(n_estimators=10).fit(X_train, y_train)\n",
    "\n",
    "# predict on test set\n",
    "rfc_pred = rfc.predict(X_test)\n"
   ]
  },
  {
   "cell_type": "markdown",
   "metadata": {},
   "source": [
    "### measures() function"
   ]
  },
  {
   "cell_type": "markdown",
   "metadata": {},
   "source": [
    "Here we created a quick function to output measures of model success to evaluate merits of each model quickly."
   ]
  },
  {
   "cell_type": "code",
   "execution_count": 42,
   "metadata": {},
   "outputs": [
    {
     "name": "stdout",
     "output_type": "stream",
     "text": [
      "Accuracy score is 0.8678992721492512\n",
      "F1 score is 0.9279686145705032\n",
      "Recall score is 0.9645329540066382\n",
      "Precision score is 0.8940752461322081\n",
      "Confusion matrix \n",
      " [[  203  1205]\n",
      " [  374 10171]]\n"
     ]
    }
   ],
   "source": [
    "def measures(actual, pred):\n",
    "    '''Takes in actual and predicted y values and outputs accuracy, \n",
    "    F1 score, recall, and a confusion matrix.'''\n",
    "    print(\"Accuracy score is\", accuracy_score(actual, pred))\n",
    "    print(\"F1 score is\", f1_score(actual, pred))\n",
    "    print(\"Recall score is\", recall_score(actual, pred))\n",
    "    print(\"Precision score is\", precision_score(actual,pred))\n",
    "    print(\"Confusion matrix\", '\\n', confusion_matrix(actual, pred))\n",
    "    \n",
    "\n",
    "measures(y_test, rfc_pred)"
   ]
  },
  {
   "cell_type": "markdown",
   "metadata": {},
   "source": [
    "This seems like a pretty good classifier to start! We have decent F1 scores, precision, and recall scores. However, because the dataset is unbalanced it would be interesting to see if we get a model later on that has a lower incidence of false positives."
   ]
  },
  {
   "cell_type": "markdown",
   "metadata": {},
   "source": [
    "### Random Forest with Oversampled"
   ]
  },
  {
   "cell_type": "code",
   "execution_count": 43,
   "metadata": {},
   "outputs": [],
   "source": [
    "from imblearn.over_sampling import RandomOverSampler\n",
    "\n",
    "ros = RandomOverSampler(random_state=0)\n",
    "\n",
    "X_over, y_over = ros.fit_resample(X_train, y_train)\n"
   ]
  },
  {
   "cell_type": "code",
   "execution_count": 80,
   "metadata": {
    "scrolled": true
   },
   "outputs": [
    {
     "name": "stdout",
     "output_type": "stream",
     "text": [
      "Accuracy score is 0.8392035472266377\n",
      "F1 score is 0.9096634705771761\n",
      "Recall score is 0.9176861071597914\n",
      "Precision score is 0.901779890038207\n",
      "Confusion matrix \n",
      " [[ 354 1054]\n",
      " [ 868 9677]]\n"
     ]
    }
   ],
   "source": [
    "rfc_over = RandomForestClassifier(n_estimators=10).fit(X_over, y_over)\n",
    "\n",
    "# predict on test set\n",
    "rfc_pred_over = rfc_over.predict(X_test)\n",
    "\n",
    "measures(y_test, rfc_pred_over)"
   ]
  },
  {
   "cell_type": "markdown",
   "metadata": {},
   "source": [
    "The Random Forest Classifier also performed fairly well with the RandomlyOverSampled dataset. However, the original dataset does score slightly better on all measures except for precision. "
   ]
  },
  {
   "cell_type": "markdown",
   "metadata": {},
   "source": [
    "### Random Forest with SMOTE"
   ]
  },
  {
   "cell_type": "code",
   "execution_count": 45,
   "metadata": {},
   "outputs": [],
   "source": [
    "from imblearn.over_sampling import SMOTE\n",
    "\n",
    "smt = SMOTE()\n",
    "\n",
    "X_smote, y_smote = smt.fit_sample(X_train, y_train)\n"
   ]
  },
  {
   "cell_type": "code",
   "execution_count": 81,
   "metadata": {},
   "outputs": [
    {
     "name": "stdout",
     "output_type": "stream",
     "text": [
      "Accuracy score is 0.7894252488914917\n",
      "F1 score is 0.8762354329547131\n",
      "Recall score is 0.844950213371266\n",
      "Precision score is 0.9099264705882353\n",
      "Confusion matrix \n",
      " [[ 526  882]\n",
      " [1635 8910]]\n"
     ]
    }
   ],
   "source": [
    "rfc_smote = RandomForestClassifier(n_estimators=10).fit(X_smote, y_smote)\n",
    "\n",
    "# predict on test set\n",
    "rfc_pred_smote = rfc_smote.predict(X_test)\n",
    "\n",
    "measures(y_test, rfc_pred_smote)"
   ]
  },
  {
   "cell_type": "markdown",
   "metadata": {},
   "source": [
    "While SMOTE RFC doesn't do terribly, these metrics are somewhat disappointing in comparison to the original and oversampled datasets."
   ]
  },
  {
   "cell_type": "markdown",
   "metadata": {},
   "source": [
    "### Random Forest and Undersampling"
   ]
  },
  {
   "cell_type": "markdown",
   "metadata": {},
   "source": [
    "Here we tried a few algorithms for undersampling, including RandomUnderSampler and NearMiss-3 (1 and 2 were also attempted, but had pretty abysmal results for all measures). "
   ]
  },
  {
   "cell_type": "code",
   "execution_count": 47,
   "metadata": {},
   "outputs": [],
   "source": [
    "from imblearn.under_sampling import RandomUnderSampler\n",
    "\n",
    "rus = RandomUnderSampler(random_state=0, \n",
    "                         replacement = True)\n",
    "\n",
    "X_under, y_under = rus.fit_resample(X_train, y_train)\n"
   ]
  },
  {
   "cell_type": "code",
   "execution_count": 48,
   "metadata": {},
   "outputs": [
    {
     "name": "stdout",
     "output_type": "stream",
     "text": [
      "Accuracy score is 0.5949134108591986\n",
      "F1 score is 0.7147065755361773\n",
      "Recall score is 0.575154101469891\n",
      "Precision score is 0.9436751205850319\n",
      "Confusion matrix \n",
      " [[1046  362]\n",
      " [4480 6065]]\n"
     ]
    }
   ],
   "source": [
    "rfc_under = RandomForestClassifier(n_estimators=10).fit(X_under, y_under)\n",
    "\n",
    "# predict on test set\n",
    "rfc_pred_under = rfc_under.predict(X_test)\n",
    "\n",
    "measures(y_test, rfc_pred_under)"
   ]
  },
  {
   "cell_type": "markdown",
   "metadata": {},
   "source": [
    "This is definitely a step down in terms of model quality from using the original dataset and oversampling. Perhaps a different  undersampling algorithm would yield better results?"
   ]
  },
  {
   "cell_type": "markdown",
   "metadata": {},
   "source": [
    "### NearMiss"
   ]
  },
  {
   "cell_type": "code",
   "execution_count": 49,
   "metadata": {},
   "outputs": [],
   "source": [
    "from imblearn.under_sampling import NearMiss\n",
    "nm1 = NearMiss(version=3)    # also tried versions 1 and 2, but these had worse results\n",
    "X_undernm, y_undernm = nm1.fit_resample(X_train, y_train)"
   ]
  },
  {
   "cell_type": "code",
   "execution_count": 50,
   "metadata": {},
   "outputs": [
    {
     "name": "stdout",
     "output_type": "stream",
     "text": [
      "Accuracy score is 0.5440475194511838\n",
      "F1 score is 0.6710129180248703\n",
      "Recall score is 0.5270744428639166\n",
      "Precision score is 0.9231024746719814\n",
      "Confusion matrix \n",
      " [[ 945  463]\n",
      " [4987 5558]]\n"
     ]
    }
   ],
   "source": [
    "rfc_undernm = RandomForestClassifier(n_estimators=10).fit(X_undernm, y_undernm)\n",
    "\n",
    "# predict on test set\n",
    "rfc_pred_under_nm = rfc_undernm.predict(X_test)\n",
    "\n",
    "measures(y_test, rfc_pred_under_nm)"
   ]
  },
  {
   "cell_type": "markdown",
   "metadata": {},
   "source": [
    "NearMiss performed worse than the standard RandomUnderSampling model (although not by much). In the interest of computational time, we're going to proceed just trying models with RandomUnderSampling, RandomOverSampling, SMOTE, and the original dataset. Thus far, it seems that Random Forest Classifier models with the regular and oversampled datasets are the ones to beat."
   ]
  },
  {
   "cell_type": "markdown",
   "metadata": {},
   "source": [
    "## K-Nearest Neighbor"
   ]
  },
  {
   "cell_type": "markdown",
   "metadata": {},
   "source": [
    "### K-Nearest Neighbor Base"
   ]
  },
  {
   "cell_type": "code",
   "execution_count": 51,
   "metadata": {
    "scrolled": true
   },
   "outputs": [
    {
     "name": "stdout",
     "output_type": "stream",
     "text": [
      "Accuracy score is 0.8533422571739312\n",
      "F1 score is 0.9188688850835378\n",
      "Recall score is 0.9413940256045519\n",
      "Precision score is 0.8973964924968361\n",
      "Confusion matrix \n",
      " [[ 273 1135]\n",
      " [ 618 9927]]\n"
     ]
    }
   ],
   "source": [
    "from sklearn.neighbors import KNeighborsClassifier\n",
    "neigh = KNeighborsClassifier(n_neighbors=3)\n",
    "neigh = neigh.fit(X_train, y_train)\n",
    "knn_test = neigh.predict(X_test)\n",
    "\n",
    "measures(y_test, knn_test)"
   ]
  },
  {
   "cell_type": "markdown",
   "metadata": {},
   "source": [
    "K-Nearest Neighbors performs fairly well overall with the original dataset, although the Random Forest Classifier has a better recall and F1 score with the original dataset."
   ]
  },
  {
   "cell_type": "markdown",
   "metadata": {},
   "source": [
    "### K-Nearest Neighbor Oversampling"
   ]
  },
  {
   "cell_type": "code",
   "execution_count": 53,
   "metadata": {},
   "outputs": [
    {
     "name": "stdout",
     "output_type": "stream",
     "text": [
      "Accuracy score is 0.7816447753701999\n",
      "F1 score is 0.8711874444773468\n",
      "Recall score is 0.8369843527738264\n",
      "Precision score is 0.9083050324174128\n",
      "Confusion matrix \n",
      " [[ 517  891]\n",
      " [1719 8826]]\n"
     ]
    }
   ],
   "source": [
    "neigh_over = KNeighborsClassifier(n_neighbors=3)\n",
    "neigh_over = neigh_over.fit(X_over, y_over)\n",
    "knn_over = neigh_over.predict(X_test)\n",
    "\n",
    "measures(y_test, knn_over)"
   ]
  },
  {
   "cell_type": "markdown",
   "metadata": {},
   "source": [
    "The oversampled KNN model performs slightly worse than the original dataset, with accuracy, F1, recall, and precision all slightly smaller."
   ]
  },
  {
   "cell_type": "markdown",
   "metadata": {},
   "source": [
    "### K-Nearest Neighbor SMOTE"
   ]
  },
  {
   "cell_type": "code",
   "execution_count": 54,
   "metadata": {},
   "outputs": [
    {
     "name": "stdout",
     "output_type": "stream",
     "text": [
      "Accuracy score is 0.6942190245126746\n",
      "F1 score is 0.805657467964056\n",
      "Recall score is 0.7184447605500237\n",
      "Precision score is 0.9169692568385379\n",
      "Confusion matrix \n",
      " [[ 722  686]\n",
      " [2969 7576]]\n"
     ]
    }
   ],
   "source": [
    "neigh_smote = KNeighborsClassifier(n_neighbors=3)\n",
    "neigh_smote = neigh_smote.fit(X_smote, y_smote)\n",
    "knn_smote = neigh_smote.predict(X_test)\n",
    "\n",
    "measures(y_test, knn_smote)"
   ]
  },
  {
   "cell_type": "markdown",
   "metadata": {},
   "source": [
    "While SMOTE has a slightly better precision score than the oversampled K-NN model, overall it is less accurate and has fewer True Negatives and True Positives than the oversampled."
   ]
  },
  {
   "cell_type": "markdown",
   "metadata": {},
   "source": [
    "### K-Nearest Neighbor Undersampling"
   ]
  },
  {
   "cell_type": "code",
   "execution_count": 55,
   "metadata": {},
   "outputs": [
    {
     "name": "stdout",
     "output_type": "stream",
     "text": [
      "Accuracy score is 0.4990378984355392\n",
      "F1 score is 0.6186958736627611\n",
      "Recall score is 0.460692271218587\n",
      "Precision score is 0.9416553595658074\n",
      "Confusion matrix \n",
      " [[1107  301]\n",
      " [5687 4858]]\n"
     ]
    }
   ],
   "source": [
    "neigh_under= KNeighborsClassifier(n_neighbors=3)\n",
    "neigh_under = neigh_under.fit(X_under, y_under)\n",
    "knn_under = neigh_under.predict(X_test)\n",
    "\n",
    "measures(y_test, knn_under)"
   ]
  },
  {
   "cell_type": "markdown",
   "metadata": {},
   "source": [
    "Similar to Random Forest Classifiers, undersampling performed the worst of the four sampled datasets with K-NN. Although precision is fairly high, this has been because the False Positive rate was driven very low at the expensive of accuracy. Overall, K-NN has been somewhat disappointing compared to the Random Forest Classifiers. "
   ]
  },
  {
   "cell_type": "markdown",
   "metadata": {},
   "source": [
    "## Support Vector Machines"
   ]
  },
  {
   "cell_type": "markdown",
   "metadata": {},
   "source": [
    "### Support Vector Machines Base"
   ]
  },
  {
   "cell_type": "code",
   "execution_count": 56,
   "metadata": {
    "scrolled": true
   },
   "outputs": [
    {
     "name": "stdout",
     "output_type": "stream",
     "text": [
      "Accuracy score is 0.8822053041077553\n",
      "F1 score is 0.9374166592586007\n",
      "Recall score is 1.0\n",
      "Precision score is 0.8822053041077553\n",
      "Confusion matrix \n",
      " [[    0  1408]\n",
      " [    0 10545]]\n"
     ]
    }
   ],
   "source": [
    "from sklearn.svm import SVC\n",
    "svc = SVC(gamma='auto')\n",
    "svc.fit(X_train, y_train)\n",
    "svc_final = svc.predict(X_test)\n",
    "\n",
    "measures(y_test, svc_final)"
   ]
  },
  {
   "cell_type": "markdown",
   "metadata": {},
   "source": [
    "So the Support Vector Machines algorithm does interesting things with the original dataset. While accuracy, F1, and precision are reasonably high, this is because SVM has just classified every person in the test dataset as having a Serious Mental Illness. This likely occurred because the dataset is imbalanced; this seems to suggest we should not be looking at recall score as a metric for choosing a model as maximizing recall will simply select a model that classifies everyone as 'positive.' Making sure recall isn't too high (above .99 or .98) will likely be important as it could be symptomatic of this phenomenon. It will be interesting to see if the resample datasets behave differently under SVM."
   ]
  },
  {
   "cell_type": "markdown",
   "metadata": {},
   "source": [
    "### Support Vector Machines Oversampling"
   ]
  },
  {
   "cell_type": "code",
   "execution_count": 57,
   "metadata": {},
   "outputs": [
    {
     "name": "stdout",
     "output_type": "stream",
     "text": [
      "Accuracy score is 0.6590814021584539\n",
      "F1 score is 0.7697089573325797\n",
      "Recall score is 0.6458036984352774\n",
      "Precision score is 0.9524475524475524\n",
      "Confusion matrix \n",
      " [[1068  340]\n",
      " [3735 6810]]\n"
     ]
    }
   ],
   "source": [
    "svc_over = SVC(gamma='auto')\n",
    "svc_over.fit(X_over, y_over)\n",
    "svc_over_final = svc_over.predict(X_test)\n",
    "\n",
    "measures(y_test, svc_over_final)"
   ]
  },
  {
   "cell_type": "markdown",
   "metadata": {},
   "source": [
    "Interestingly, the oversampled SVM seems to have the opposite issue from SVM with the original dataset. We get a very good metric for true negatives, but at the expense of overall accuracy and capturing true positives."
   ]
  },
  {
   "cell_type": "markdown",
   "metadata": {},
   "source": [
    "### Support Vector Machines SMOTE"
   ]
  },
  {
   "cell_type": "code",
   "execution_count": 58,
   "metadata": {},
   "outputs": [
    {
     "name": "stdout",
     "output_type": "stream",
     "text": [
      "Accuracy score is 0.7834853174935162\n",
      "F1 score is 0.8719065531577904\n",
      "Recall score is 0.8352773826458036\n",
      "Precision score is 0.9118956413707423\n",
      "Confusion matrix \n",
      " [[ 557  851]\n",
      " [1737 8808]]\n"
     ]
    }
   ],
   "source": [
    "svc_smote = SVC(gamma='auto')\n",
    "svc_smote.fit(X_smote, y_smote)\n",
    "svc_smote_final = svc_smote.predict(X_test)\n",
    "\n",
    "measures(y_test, svc_smote_final)"
   ]
  },
  {
   "cell_type": "markdown",
   "metadata": {},
   "source": [
    "SVM SMOTE performs better than SVM oversampled in terms of accuracy, F1 score, and recall score. It has avoided some of the over-precision of SVM oversampled, and is better than SVM with the original dataset. In short, it seems to have found a balance between true positives and true negatives (although the random forest and K-NN models perform better)."
   ]
  },
  {
   "cell_type": "markdown",
   "metadata": {},
   "source": [
    "### Support Vector Machines Undersampling"
   ]
  },
  {
   "cell_type": "code",
   "execution_count": 59,
   "metadata": {},
   "outputs": [
    {
     "name": "stdout",
     "output_type": "stream",
     "text": [
      "Accuracy score is 0.6404249979084748\n",
      "F1 score is 0.7539782484258729\n",
      "Recall score is 0.624561403508772\n",
      "Precision score is 0.9510469314079423\n",
      "Confusion matrix \n",
      " [[1069  339]\n",
      " [3959 6586]]\n"
     ]
    }
   ],
   "source": [
    "svc_under = SVC(gamma='auto')\n",
    "svc_under.fit(X_under, y_under)\n",
    "svc_under_final = svc_under.predict(X_test)\n",
    "\n",
    "measures(y_test, svc_under_final)"
   ]
  },
  {
   "cell_type": "markdown",
   "metadata": {},
   "source": [
    "Undersampling seems to have similar problems to oversampling with an overemphasis on reducing false positives. Overall, SVM SMOTE performed the best of this family of models, but this has not improved upon the Random Forest Classifier."
   ]
  },
  {
   "cell_type": "markdown",
   "metadata": {},
   "source": [
    "## Logistic Regression"
   ]
  },
  {
   "cell_type": "markdown",
   "metadata": {},
   "source": [
    "### Logistic Regression Base"
   ]
  },
  {
   "cell_type": "code",
   "execution_count": 60,
   "metadata": {},
   "outputs": [
    {
     "name": "stdout",
     "output_type": "stream",
     "text": [
      "Accuracy score is 0.8822053041077553\n",
      "F1 score is 0.9373051919137948\n",
      "Recall score is 0.9981033665244191\n",
      "Precision score is 0.8834886258708974\n",
      "Confusion matrix \n",
      " [[   20  1388]\n",
      " [   20 10525]]\n"
     ]
    }
   ],
   "source": [
    "from sklearn.linear_model import LogisticRegression\n",
    "\n",
    "log = LogisticRegression(random_state=0, solver = 'liblinear').fit(X_train, y_train)\n",
    "log_final = log.predict(X_test)\n",
    "log.predict_proba(X_test)\n",
    "\n",
    "measures(y_test, log_final)"
   ]
  },
  {
   "cell_type": "markdown",
   "metadata": {},
   "source": [
    "Logistic regression does slightly better than SVM with the original dataset, but not by much. This model overemphasizes true positives and neglects true negative metrics; the recall is too high to be considered as one of the best models."
   ]
  },
  {
   "cell_type": "markdown",
   "metadata": {},
   "source": [
    "### Logistic Regression Oversampling"
   ]
  },
  {
   "cell_type": "code",
   "execution_count": 61,
   "metadata": {
    "scrolled": true
   },
   "outputs": [
    {
     "name": "stdout",
     "output_type": "stream",
     "text": [
      "Accuracy score is 0.6714632309880365\n",
      "F1 score is 0.781042654028436\n",
      "Recall score is 0.6642010431484116\n",
      "Precision score is 0.9477672530446549\n",
      "Confusion matrix \n",
      " [[1022  386]\n",
      " [3541 7004]]\n"
     ]
    }
   ],
   "source": [
    "log_over = LogisticRegression(random_state=0).fit(X_over, y_over)\n",
    "log_over.predict_proba(X_test)\n",
    "log_over = log_over.predict(X_test)\n",
    "\n",
    "measures(y_test, log_over)\n"
   ]
  },
  {
   "cell_type": "markdown",
   "metadata": {},
   "source": [
    "Logistic regression oversampled is a slightly more balanced model, but is performing much worse than our best models."
   ]
  },
  {
   "cell_type": "markdown",
   "metadata": {},
   "source": [
    "### Logistic Regression SMOTE"
   ]
  },
  {
   "cell_type": "code",
   "execution_count": 62,
   "metadata": {},
   "outputs": [
    {
     "name": "stdout",
     "output_type": "stream",
     "text": [
      "Accuracy score is 0.7876683677737807\n",
      "F1 score is 0.875073833431778\n",
      "Recall score is 0.8429587482219061\n",
      "Precision score is 0.9097328830211852\n",
      "Confusion matrix \n",
      " [[ 526  882]\n",
      " [1656 8889]]\n"
     ]
    }
   ],
   "source": [
    "log_smote = LogisticRegression(random_state=0).fit(X_smote, y_smote)\n",
    "log_smote.predict_proba(X_test)\n",
    "log_smote = log_smote.predict(X_test)\n",
    "\n",
    "measures(y_test, log_smote)\n"
   ]
  },
  {
   "cell_type": "markdown",
   "metadata": {},
   "source": [
    "SMOTE logistic regression is the most balanced of the subset of logistic regression models, but ultimately cannot compare with the metrics of the previous frontrunners from the Random Forest Classifier."
   ]
  },
  {
   "cell_type": "markdown",
   "metadata": {},
   "source": [
    "### Logistic Regression Undersampling"
   ]
  },
  {
   "cell_type": "code",
   "execution_count": 63,
   "metadata": {
    "scrolled": true
   },
   "outputs": [
    {
     "name": "stdout",
     "output_type": "stream",
     "text": [
      "Accuracy score is 0.6646030285284029\n",
      "F1 score is 0.7753684092564578\n",
      "Recall score is 0.656140350877193\n",
      "Precision score is 0.9475486168173103\n",
      "Confusion matrix \n",
      " [[1025  383]\n",
      " [3626 6919]]\n"
     ]
    }
   ],
   "source": [
    "log_under = LogisticRegression(random_state=0).fit(X_under, y_under)\n",
    "log_idk = log_under.predict(X_test)\n",
    "\n",
    "measures(y_test, log_idk)"
   ]
  },
  {
   "cell_type": "markdown",
   "metadata": {},
   "source": [
    "Logistic regression undersampling does poorly on all pertinent fronts. None of these iterations seems useful in considering the best model for this classification problem."
   ]
  },
  {
   "cell_type": "markdown",
   "metadata": {},
   "source": [
    "## XGBoost"
   ]
  },
  {
   "cell_type": "markdown",
   "metadata": {},
   "source": [
    "### XGBoost Base"
   ]
  },
  {
   "cell_type": "code",
   "execution_count": 65,
   "metadata": {},
   "outputs": [
    {
     "name": "stdout",
     "output_type": "stream",
     "text": [
      "Accuracy score is 0.8822053041077553\n",
      "F1 score is 0.9374166592586007\n",
      "Recall score is 1.0\n",
      "Precision score is 0.8822053041077553\n",
      "Confusion matrix \n",
      " [[    0  1408]\n",
      " [    0 10545]]\n"
     ]
    }
   ],
   "source": [
    "from xgboost import XGBClassifier\n",
    "\n",
    "xgb = XGBClassifier(random_state=1,learning_rate=0.01)\n",
    "xgb.fit(X_train, y_train)\n",
    "\n",
    "xgb_pred = xgb.predict(X_test)\n",
    "\n",
    "measures(y_test, xgb_pred)"
   ]
  },
  {
   "cell_type": "markdown",
   "metadata": {},
   "source": [
    "XGBoost performs similarly to logistic regression and SVM with the base dataset and oversimplifies the classification problem."
   ]
  },
  {
   "cell_type": "markdown",
   "metadata": {},
   "source": [
    "### XGBoost Oversampling"
   ]
  },
  {
   "cell_type": "code",
   "execution_count": 66,
   "metadata": {},
   "outputs": [
    {
     "name": "stdout",
     "output_type": "stream",
     "text": [
      "Accuracy score is 0.6490420814858194\n",
      "F1 score is 0.7637551388184941\n",
      "Recall score is 0.6430535798956851\n",
      "Precision score is 0.9402384914032169\n",
      "Confusion matrix \n",
      " [[ 977  431]\n",
      " [3764 6781]]\n"
     ]
    }
   ],
   "source": [
    "xgb_over = XGBClassifier(random_state=1,learning_rate=0.01)\n",
    "xgb_over.fit(X_over, y_over)\n",
    "\n",
    "xgb_pred_over = xgb_over.predict(X_test)\n",
    "\n",
    "measures(y_test, xgb_pred_over)"
   ]
  },
  {
   "cell_type": "markdown",
   "metadata": {},
   "source": [
    "XGBoost oversampling fares somewhat better, but its metrics are still fairly weak."
   ]
  },
  {
   "cell_type": "markdown",
   "metadata": {},
   "source": [
    "### XGBoost SMOTE"
   ]
  },
  {
   "cell_type": "code",
   "execution_count": 67,
   "metadata": {},
   "outputs": [
    {
     "name": "stdout",
     "output_type": "stream",
     "text": [
      "Accuracy score is 0.6538107588053208\n",
      "F1 score is 0.7679973088136354\n",
      "Recall score is 0.6495021337126601\n",
      "Precision score is 0.9393773144973254\n",
      "Confusion matrix \n",
      " [[ 966  442]\n",
      " [3696 6849]]\n"
     ]
    }
   ],
   "source": [
    "xgb_smote = XGBClassifier(random_state=1,learning_rate=0.01)\n",
    "xgb_smote.fit(X_smote, y_smote)\n",
    "\n",
    "xgb_pred_smote = xgb_smote.predict(X_test)\n",
    "\n",
    "measures(y_test, xgb_pred_smote)"
   ]
  },
  {
   "cell_type": "markdown",
   "metadata": {},
   "source": [
    "Again, XGBoost does slightly better than the original dataset with XGBoost, but is overall still quite weak."
   ]
  },
  {
   "cell_type": "markdown",
   "metadata": {},
   "source": [
    "### XGBoost Undersampling"
   ]
  },
  {
   "cell_type": "code",
   "execution_count": 68,
   "metadata": {},
   "outputs": [
    {
     "name": "stdout",
     "output_type": "stream",
     "text": [
      "Accuracy score is 0.6455283192503974\n",
      "F1 score is 0.760662034683387\n",
      "Recall score is 0.6385016595542912\n",
      "Precision score is 0.9406258731489243\n",
      "Confusion matrix \n",
      " [[ 983  425]\n",
      " [3812 6733]]\n"
     ]
    }
   ],
   "source": [
    "xgb_under = XGBClassifier(random_state=1,learning_rate=0.01)\n",
    "xgb_under.fit(X_under, y_under)\n",
    "\n",
    "xgb_pred_under = xgb_under.predict(X_test)\n",
    "\n",
    "measures(y_test, xgb_pred_under)"
   ]
  },
  {
   "cell_type": "markdown",
   "metadata": {},
   "source": [
    "XGBoost fares no better with undersampling. This is another not-so-helpful algorithm in predicting Serious Mental Illness."
   ]
  },
  {
   "cell_type": "markdown",
   "metadata": {},
   "source": [
    "## Linear Discriminant Analysis"
   ]
  },
  {
   "cell_type": "markdown",
   "metadata": {},
   "source": [
    "### LDA Base Data"
   ]
  },
  {
   "cell_type": "code",
   "execution_count": 69,
   "metadata": {},
   "outputs": [
    {
     "name": "stdout",
     "output_type": "stream",
     "text": [
      "Accuracy score is 0.8806994060068603\n",
      "F1 score is 0.9362025769506085\n",
      "Recall score is 0.9922238027501186\n",
      "Precision score is 0.8861692216481748\n",
      "Confusion matrix \n",
      " [[   64  1344]\n",
      " [   82 10463]]\n"
     ]
    }
   ],
   "source": [
    "from sklearn.discriminant_analysis import LinearDiscriminantAnalysis\n",
    "\n",
    "lda = LinearDiscriminantAnalysis()\n",
    "lda.fit(X_train, y_train)\n",
    "lda_base = lda.predict(X_test)\n",
    "\n",
    "measures(y_test, lda_base)"
   ]
  },
  {
   "cell_type": "markdown",
   "metadata": {},
   "source": [
    "Similar to the SVM and Logistic Regression Base Models, the LDA generates too many True positives and hence the recall score is high. But this happens at the tradeoff of low true negatives. Hence, this is not an ideal model in our scenario."
   ]
  },
  {
   "cell_type": "markdown",
   "metadata": {},
   "source": [
    "### LDA Oversampled "
   ]
  },
  {
   "cell_type": "code",
   "execution_count": 70,
   "metadata": {},
   "outputs": [
    {
     "name": "stdout",
     "output_type": "stream",
     "text": [
      "Accuracy score is 0.6667782146741403\n",
      "F1 score is 0.7768502437111323\n",
      "Recall score is 0.6574679943100996\n",
      "Precision score is 0.9492059145673604\n",
      "Confusion matrix \n",
      " [[1037  371]\n",
      " [3612 6933]]\n"
     ]
    }
   ],
   "source": [
    "lda_over = LinearDiscriminantAnalysis()\n",
    "lda_over.fit(X_over, y_over)\n",
    "lda_over = lda_over.predict(X_test)\n",
    "\n",
    "measures(y_test, lda_over)"
   ]
  },
  {
   "cell_type": "markdown",
   "metadata": {},
   "source": [
    "The Oversampled LDA model has worse performance than the baseline model. The true positives have decreased significantly and seem to have shifted more towards false negatives. "
   ]
  },
  {
   "cell_type": "markdown",
   "metadata": {},
   "source": [
    "### LDA Undersampled"
   ]
  },
  {
   "cell_type": "code",
   "execution_count": 71,
   "metadata": {},
   "outputs": [
    {
     "name": "stdout",
     "output_type": "stream",
     "text": [
      "Accuracy score is 0.6594997071864804\n",
      "F1 score is 0.7708075233697489\n",
      "Recall score is 0.6490279753437648\n",
      "Precision score is 0.9488423679467628\n",
      "Confusion matrix \n",
      " [[1039  369]\n",
      " [3701 6844]]\n"
     ]
    }
   ],
   "source": [
    "lda_under = LinearDiscriminantAnalysis()\n",
    "lda_under.fit(X_under, y_under)\n",
    "lda_under = lda_under.predict(X_test)\n",
    "\n",
    "measures(y_test, lda_under)"
   ]
  },
  {
   "cell_type": "markdown",
   "metadata": {},
   "source": [
    "The Undersampled LDA is equally bad like the Oversampled LDA. The precision score is high, but there are low scores on all other metrics."
   ]
  },
  {
   "cell_type": "markdown",
   "metadata": {},
   "source": [
    "### LDA Smote"
   ]
  },
  {
   "cell_type": "code",
   "execution_count": 72,
   "metadata": {
    "scrolled": true
   },
   "outputs": [
    {
     "name": "stdout",
     "output_type": "stream",
     "text": [
      "Accuracy score is 0.782230402409437\n",
      "F1 score is 0.8712597062169246\n",
      "Recall score is 0.8352773826458036\n",
      "Precision score is 0.9104817035352492\n",
      "Confusion matrix \n",
      " [[ 542  866]\n",
      " [1737 8808]]\n"
     ]
    }
   ],
   "source": [
    "lda_smote = LinearDiscriminantAnalysis()\n",
    "lda_smote.fit(X_smote, y_smote)\n",
    "lda_smote = lda_smote.predict(X_test)\n",
    "\n",
    "measures(y_test, lda_smote)"
   ]
  },
  {
   "cell_type": "markdown",
   "metadata": {},
   "source": [
    "We tried LDA with SMOTE and it has better metrics than the Oversampled LDA, but definitely not good enough to overtake the RFC models as the accuracy of the model is well below 80%"
   ]
  },
  {
   "cell_type": "markdown",
   "metadata": {},
   "source": [
    "## Naive Bayes"
   ]
  },
  {
   "cell_type": "markdown",
   "metadata": {},
   "source": [
    "### Naive Bayes with Base Data"
   ]
  },
  {
   "cell_type": "code",
   "execution_count": 73,
   "metadata": {},
   "outputs": [
    {
     "name": "stdout",
     "output_type": "stream",
     "text": [
      "Accuracy score is 0.5978415460553835\n",
      "F1 score is 0.7185761957730813\n",
      "Recall score is 0.581981981981982\n",
      "Precision score is 0.938953488372093\n",
      "Confusion matrix \n",
      " [[1009  399]\n",
      " [4408 6137]]\n"
     ]
    }
   ],
   "source": [
    "from sklearn.naive_bayes import GaussianNB\n",
    "nb = GaussianNB()\n",
    "nb.fit(X_train, y_train)\n",
    "nb_base = nb.predict(X_test)\n",
    "\n",
    "measures(y_test, nb_base)"
   ]
  },
  {
   "cell_type": "markdown",
   "metadata": {},
   "source": [
    "We ran the Naive Bayes model with the original dataset and it performs abysmally in terms of reducing false negatives; this is evident from the low recall score of around 58%."
   ]
  },
  {
   "cell_type": "markdown",
   "metadata": {},
   "source": [
    "### Naive Bayes with Oversampled Data"
   ]
  },
  {
   "cell_type": "code",
   "execution_count": 74,
   "metadata": {},
   "outputs": [
    {
     "name": "stdout",
     "output_type": "stream",
     "text": [
      "Accuracy score is 0.5374383000083661\n",
      "F1 score is 0.6588511137162955\n",
      "Recall score is 0.5063063063063064\n",
      "Precision score is 0.9429530201342282\n",
      "Confusion matrix \n",
      " [[1085  323]\n",
      " [5206 5339]]\n"
     ]
    }
   ],
   "source": [
    "nb_over = GaussianNB()\n",
    "nb_over.fit(X_over, y_over)\n",
    "nb_over = nb_over.predict(X_test)\n",
    "\n",
    "measures(y_test, nb_over)"
   ]
  },
  {
   "cell_type": "markdown",
   "metadata": {},
   "source": [
    "There is further worsening in the metrics like Accuracy, F1 score and the recall even comparing to the baseline model which was already performing bad. It's fairly clear our dataset is not a good fit for Naive Bayes, but we wanted to see how the other datasets performed regardless"
   ]
  },
  {
   "cell_type": "markdown",
   "metadata": {},
   "source": [
    "### Naive Bayes with Undersampled Data"
   ]
  },
  {
   "cell_type": "code",
   "execution_count": 75,
   "metadata": {},
   "outputs": [
    {
     "name": "stdout",
     "output_type": "stream",
     "text": [
      "Accuracy score is 0.5589391784489249\n",
      "F1 score is 0.6800970873786408\n",
      "Recall score is 0.5314366998577524\n",
      "Precision score is 0.944229149115417\n",
      "Confusion matrix \n",
      " [[1077  331]\n",
      " [4941 5604]]\n"
     ]
    }
   ],
   "source": [
    "nb_under = GaussianNB()\n",
    "nb_under.fit(X_under, y_under)\n",
    "nb_under = nb_under.predict(X_test)\n",
    "\n",
    "measures(y_test, nb_under)"
   ]
  },
  {
   "cell_type": "markdown",
   "metadata": {},
   "source": [
    "Similar to the previous models, even this one with undersampled data performs badly."
   ]
  },
  {
   "cell_type": "markdown",
   "metadata": {},
   "source": [
    "### Naive Bayes with SMOTE"
   ]
  },
  {
   "cell_type": "code",
   "execution_count": 76,
   "metadata": {},
   "outputs": [
    {
     "name": "stdout",
     "output_type": "stream",
     "text": [
      "Accuracy score is 0.5421233163222622\n",
      "F1 score is 0.6731171235740311\n",
      "Recall score is 0.5343764817449028\n",
      "Precision score is 0.909164246531139\n",
      "Confusion matrix \n",
      " [[ 845  563]\n",
      " [4910 5635]]\n"
     ]
    }
   ],
   "source": [
    "nb_smote = GaussianNB()\n",
    "nb_smote.fit(X_smote, y_smote)\n",
    "nb_smote = nb_smote.predict(X_test)\n",
    "\n",
    "measures(y_test, nb_smote)"
   ]
  },
  {
   "cell_type": "markdown",
   "metadata": {},
   "source": [
    "Even with SMOTE, there is no improvement in the Naive Bayes Model.\n",
    "\n",
    "\n"
   ]
  },
  {
   "cell_type": "markdown",
   "metadata": {},
   "source": [
    "After trying out Oversampling, SMOTE, and Undersampling methods with different models, we understand that the performance often decreases with these methods than the base models and that is because we increase the number of instances of records without serious mental illness and the models don't play well with it.\n",
    "\n",
    "Only Random Forest gives good output with Oversampling and the base data. Hence we will choose Random Forest to go ahead and try both the base dataset as well as the oversampled dataset.\n",
    "\n",
    "For both of these models we will perform Hyperparameter tuning on this Random Forest model with Oversampled and Original data by doing GridSearch."
   ]
  },
  {
   "cell_type": "code",
   "execution_count": 77,
   "metadata": {},
   "outputs": [],
   "source": [
    "from sklearn.model_selection import GridSearchCV"
   ]
  },
  {
   "cell_type": "markdown",
   "metadata": {},
   "source": [
    "## Hyperparameter tuning for the original baseline dataset"
   ]
  },
  {
   "cell_type": "markdown",
   "metadata": {},
   "source": [
    "We tried different combinations of parameters in the GridSearch and finally kept the one which performed better"
   ]
  },
  {
   "cell_type": "code",
   "execution_count": 82,
   "metadata": {},
   "outputs": [],
   "source": [
    "model_params = {\n",
    "    'n_estimators': [10, 20, 30],\n",
    "    'max_features': ['sqrt', 'log2', 0.2, 0.15],\n",
    "    'min_samples_split': [2, 4, 6]\n",
    "}\n",
    "\n",
    "# model_params = {\n",
    "#     'n_estimators': [10, 20, 30],\n",
    "#     'max_features': ['sqrt', 0.2, 0.3],\n",
    "#     'min_samples_split': [2, 4, 6]\n",
    "# }\n",
    "\n",
    "# model_params = {\n",
    "#     'n_estimators': [10, 25, 35],\n",
    "#     'max_features': ['log2', 0.25, 0.3],\n",
    "#     'min_samples_split': [2, 4, 6]\n",
    "# }"
   ]
  },
  {
   "cell_type": "code",
   "execution_count": 83,
   "metadata": {},
   "outputs": [
    {
     "name": "stdout",
     "output_type": "stream",
     "text": [
      "{'bootstrap': True,\n",
      " 'ccp_alpha': 0.0,\n",
      " 'class_weight': None,\n",
      " 'criterion': 'gini',\n",
      " 'max_depth': None,\n",
      " 'max_features': 'log2',\n",
      " 'max_leaf_nodes': None,\n",
      " 'max_samples': None,\n",
      " 'min_impurity_decrease': 0.0,\n",
      " 'min_impurity_split': None,\n",
      " 'min_samples_leaf': 1,\n",
      " 'min_samples_split': 6,\n",
      " 'min_weight_fraction_leaf': 0.0,\n",
      " 'n_estimators': 30,\n",
      " 'n_jobs': None,\n",
      " 'oob_score': False,\n",
      " 'random_state': 1,\n",
      " 'verbose': 0,\n",
      " 'warm_start': False}\n"
     ]
    }
   ],
   "source": [
    "# create random forest classifier model\n",
    "rf_model = RandomForestClassifier(random_state=1)\n",
    "\n",
    "# set up grid search meta-estimator\n",
    "clf = GridSearchCV(rf_model, model_params, cv=5)\n",
    "\n",
    "# train the random search meta-estimator to find the best model\n",
    "best_model = clf.fit(X_train, y_train)\n",
    "\n",
    "# print winning set of hyperparameters\n",
    "from pprint import pprint\n",
    "pprint(best_model.best_estimator_.get_params())"
   ]
  },
  {
   "cell_type": "code",
   "execution_count": 84,
   "metadata": {},
   "outputs": [
    {
     "data": {
      "text/plain": [
       "{'max_features': 'log2', 'min_samples_split': 6, 'n_estimators': 30}"
      ]
     },
     "execution_count": 84,
     "metadata": {},
     "output_type": "execute_result"
    }
   ],
   "source": [
    "clf.best_params_"
   ]
  },
  {
   "cell_type": "code",
   "execution_count": 85,
   "metadata": {},
   "outputs": [
    {
     "name": "stdout",
     "output_type": "stream",
     "text": [
      "Accuracy score is 0.8806994060068603\n",
      "F1 score is 0.9362880886426592\n",
      "Recall score is 0.9936462778568041\n",
      "Precision score is 0.8851905043507645\n",
      "Confusion matrix \n",
      " [[   49  1359]\n",
      " [   67 10478]]\n"
     ]
    }
   ],
   "source": [
    "# generate predictions using the best-performing model\n",
    "y_pred_best = best_model.predict(X_test)\n",
    "\n",
    "measures(y_test, y_pred_best)"
   ]
  },
  {
   "cell_type": "markdown",
   "metadata": {},
   "source": [
    "The model looks good at first, but again it can be noticed that it has the same problem of being unable to classify true negatives well. Its very high recall score and high number of fall positives suggest that it is inclined towards classifying everything as a postive class or rather everyone having serious mental illness, which is not what we want. \n",
    "\n",
    "Below the confusion matrix has been visualized."
   ]
  },
  {
   "cell_type": "code",
   "execution_count": 86,
   "metadata": {},
   "outputs": [
    {
     "name": "stdout",
     "output_type": "stream",
     "text": [
      "[[   49  1359]\n",
      " [   67 10478]]\n"
     ]
    },
    {
     "data": {
      "image/png": "[encoded data removed]",
      "text/plain": [
       "<Figure size 432x288 with 2 Axes>"
      ]
     },
     "metadata": {
      "needs_background": "light"
     },
     "output_type": "display_data"
    }
   ],
   "source": [
    "from sklearn.metrics import plot_confusion_matrix\n",
    "\n",
    "disp = plot_confusion_matrix(best_model, X_test, y_test,\n",
    "                                 #display_labels=class_names,\n",
    "                                 cmap=plt.cm.Blues)\n",
    "\n",
    "print(disp.confusion_matrix)"
   ]
  },
  {
   "cell_type": "markdown",
   "metadata": {},
   "source": [
    "Below the feature importances are shown for the Hyperparameter tuned Random Forest model with original data."
   ]
  },
  {
   "cell_type": "code",
   "execution_count": 87,
   "metadata": {
    "scrolled": false
   },
   "outputs": [
    {
     "name": "stdout",
     "output_type": "stream",
     "text": [
      "[0.0175813  0.01773012 0.01172028 0.00613169 0.01541394 0.01163935\n",
      " 0.01092026 0.02351077 0.00543132 0.01431123 0.01992404 0.01442195\n",
      " 0.01646893 0.00266168 0.00077121 0.0097608  0.00218842 0.00743508\n",
      " 0.00750297 0.0018629  0.01737543 0.00935077 0.00720939 0.01246627\n",
      " 0.01144875 0.00312796 0.017869   0.00096867 0.0048621  0.00526195\n",
      " 0.01442627 0.00994463 0.00882729 0.00417315 0.0060011  0.01275751\n",
      " 0.01470658 0.00920675 0.01135055 0.01142328 0.01384027 0.00964129\n",
      " 0.01326993 0.00409477 0.00377992 0.00850403 0.0116174  0.00109042\n",
      " 0.00340749 0.00488793 0.00743035 0.00440823 0.00420991 0.01255498\n",
      " 0.00615578 0.01699342 0.01587636 0.01786295 0.00583812 0.01337819\n",
      " 0.02678415 0.01482021 0.0009132  0.0012082  0.01795673 0.01340259\n",
      " 0.00776693 0.00776353 0.01667425 0.01597183 0.01010426 0.01493533\n",
      " 0.00392336 0.00972577 0.01379109 0.00176108 0.00537308 0.01093097\n",
      " 0.00742718 0.00327125 0.00433752 0.00245794 0.00713821 0.00267686\n",
      " 0.00353104 0.01527833 0.00957285 0.00606857 0.00411642 0.0045294\n",
      " 0.00519674 0.00078845 0.00158281 0.00496847 0.00398513 0.00198104\n",
      " 0.00058736 0.0028563  0.00483778 0.00270031 0.00138111 0.00235397\n",
      " 0.00890912 0.00721415 0.00314237 0.00697905 0.00284244 0.0034636\n",
      " 0.00276053 0.00498275 0.0039698  0.00463179 0.00246245 0.0107446\n",
      " 0.00235422 0.00595037 0.00266644 0.0044113  0.00482199 0.00973125\n",
      " 0.0027118  0.00619768 0.00264074 0.00440044 0.00559214]\n"
     ]
    },
    {
     "data": {
      "image/png": "[encoded data removed]",
      "text/plain": [
       "<Figure size 432x288 with 1 Axes>"
      ]
     },
     "metadata": {
      "needs_background": "light"
     },
     "output_type": "display_data"
    }
   ],
   "source": [
    "\n",
    "print(best_model.best_estimator_.feature_importances_) #use inbuilt class feature_importances of tree based classifiers\n",
    "#plot graph of feature importances for better visualization\n",
    "feat_importances = pd.Series(best_model.best_estimator_.feature_importances_, index=X_train.columns)\n",
    "feat_importances.nlargest(10).plot(kind='barh')\n",
    "plt.show()"
   ]
  },
  {
   "cell_type": "markdown",
   "metadata": {},
   "source": [
    "Determining which features are the most effective predictors of outcome in the final model shows that features like SSI Cash Assistance, Smoking, Male Sex, White Race etc are the most important predictors.\n",
    "\n",
    "\n",
    "## Hyperparameter tuning for the Oversampled dataset\n",
    "\n",
    "Here we perform the same hyperparamter tuning operation for the RandomOverSampling dataset."
   ]
  },
  {
   "cell_type": "code",
   "execution_count": 88,
   "metadata": {},
   "outputs": [],
   "source": [
    "model_params_over = {\n",
    "    'n_estimators': [10, 20, 30],\n",
    "    'max_features': ['sqrt', 'log2', 0.2, 0.15],\n",
    "    'min_samples_split': [2, 4, 6]\n",
    "}\n",
    "\n",
    "# model_params = {\n",
    "#     'n_estimators': [10, 20, 30],\n",
    "#     'max_features': ['sqrt', 0.2, 0.3],\n",
    "#     'min_samples_split': [2, 4, 6]\n",
    "# }\n",
    "\n",
    "# model_params = {\n",
    "#     'n_estimators': [10, 25, 35],\n",
    "#     'max_features': ['log2', 0.25, 0.3],\n",
    "#     'min_samples_split': [2, 4, 6]\n",
    "# }"
   ]
  },
  {
   "cell_type": "code",
   "execution_count": 89,
   "metadata": {},
   "outputs": [
    {
     "name": "stdout",
     "output_type": "stream",
     "text": [
      "{'bootstrap': True,\n",
      " 'ccp_alpha': 0.0,\n",
      " 'class_weight': None,\n",
      " 'criterion': 'gini',\n",
      " 'max_depth': None,\n",
      " 'max_features': 'log2',\n",
      " 'max_leaf_nodes': None,\n",
      " 'max_samples': None,\n",
      " 'min_impurity_decrease': 0.0,\n",
      " 'min_impurity_split': None,\n",
      " 'min_samples_leaf': 1,\n",
      " 'min_samples_split': 2,\n",
      " 'min_weight_fraction_leaf': 0.0,\n",
      " 'n_estimators': 30,\n",
      " 'n_jobs': None,\n",
      " 'oob_score': False,\n",
      " 'random_state': 1,\n",
      " 'verbose': 0,\n",
      " 'warm_start': False}\n"
     ]
    }
   ],
   "source": [
    "# create random forest classifier model\n",
    "rf_model_over = RandomForestClassifier(random_state=1)\n",
    "\n",
    "# set up grid search meta-estimator\n",
    "clf_over = GridSearchCV(rf_model_over, model_params_over, cv=5)\n",
    "\n",
    "# train the random search meta-estimator to find the best model\n",
    "best_model_over = clf_over.fit(X_over, y_over)\n",
    "\n",
    "# print winning set of hyperparameters\n",
    "from pprint import pprint\n",
    "pprint(best_model_over.best_estimator_.get_params())"
   ]
  },
  {
   "cell_type": "code",
   "execution_count": 90,
   "metadata": {},
   "outputs": [
    {
     "data": {
      "text/plain": [
       "{'max_features': 'log2', 'min_samples_split': 2, 'n_estimators': 30}"
      ]
     },
     "execution_count": 90,
     "metadata": {},
     "output_type": "execute_result"
    }
   ],
   "source": [
    "clf_over.best_params_"
   ]
  },
  {
   "cell_type": "code",
   "execution_count": 91,
   "metadata": {},
   "outputs": [
    {
     "name": "stdout",
     "output_type": "stream",
     "text": [
      "Accuracy score is 0.8596168325943278\n",
      "F1 score is 0.9227866740290815\n",
      "Recall score is 0.9508771929824561\n",
      "Precision score is 0.8963082148922857\n",
      "Confusion matrix \n",
      " [[  248  1160]\n",
      " [  518 10027]]\n"
     ]
    }
   ],
   "source": [
    "# generate predictions using the best-performing model\n",
    "y_pred_best = best_model_over.predict(X_test)\n",
    "\n",
    "measures(y_test, y_pred_best)"
   ]
  },
  {
   "cell_type": "markdown",
   "metadata": {},
   "source": [
    "Here it can be seen that the Accuracy score has decreased to some extent, but the model has identified true negatives better than the previous model. These improvements were made while maintaining a pretty good F1 score, though it is is slightly less than the original dataset model. The hardest part in this project was selecting a model with good metrics that did not classify everything as True Postives (or classifying everyone seeking mental health services has a serious mental illness). This would cause wastage of resources on the part of doctors, as people without a serious mental illness may be overtreated. While some level of false positives are acceptable in getting more people help, we are concerned about the [shortage](https://www.bhecon.org/wp-content/uploads/2018/01/NY-Chartbook-2018_FINAL.pdf) of mental health care professionals in some areas.\n",
    "\n",
    "This improvement in the Precision score of 89.63% from the 88.51% of previous model is more relevant in this case than the slight decrease in the recall and accuracy as it might lead to some people having serious mental illness being missed out, but at the same time reducing the false positves and saving the energy and resources of doctors to keep their productivty optimum. Hence, we are selecting the RandomlyOverSampled Random Forest Classifier with the above hyperparameters as the final model.\n",
    "\n",
    "Below the confusion matrix has been visualized."
   ]
  },
  {
   "cell_type": "code",
   "execution_count": 92,
   "metadata": {},
   "outputs": [
    {
     "name": "stdout",
     "output_type": "stream",
     "text": [
      "[[  248  1160]\n",
      " [  518 10027]]\n"
     ]
    },
    {
     "data": {
      "image/png": "[encoded data removed]",
      "text/plain": [
       "<Figure size 432x288 with 2 Axes>"
      ]
     },
     "metadata": {
      "needs_background": "light"
     },
     "output_type": "display_data"
    }
   ],
   "source": [
    "disp = plot_confusion_matrix(best_model_over, X_test, y_test,\n",
    "                                 #display_labels=class_names,\n",
    "                                 cmap=plt.cm.Blues)\n",
    "\n",
    "print(disp.confusion_matrix)"
   ]
  },
  {
   "cell_type": "markdown",
   "metadata": {},
   "source": [
    "Below the feature importances are shown for the Hyperparameter tuned Random Forest model with Oversampled data."
   ]
  },
  {
   "cell_type": "code",
   "execution_count": 93,
   "metadata": {},
   "outputs": [
    {
     "name": "stdout",
     "output_type": "stream",
     "text": [
      "[0.0175813  0.01773012 0.01172028 0.00613169 0.01541394 0.01163935\n",
      " 0.01092026 0.02351077 0.00543132 0.01431123 0.01992404 0.01442195\n",
      " 0.01646893 0.00266168 0.00077121 0.0097608  0.00218842 0.00743508\n",
      " 0.00750297 0.0018629  0.01737543 0.00935077 0.00720939 0.01246627\n",
      " 0.01144875 0.00312796 0.017869   0.00096867 0.0048621  0.00526195\n",
      " 0.01442627 0.00994463 0.00882729 0.00417315 0.0060011  0.01275751\n",
      " 0.01470658 0.00920675 0.01135055 0.01142328 0.01384027 0.00964129\n",
      " 0.01326993 0.00409477 0.00377992 0.00850403 0.0116174  0.00109042\n",
      " 0.00340749 0.00488793 0.00743035 0.00440823 0.00420991 0.01255498\n",
      " 0.00615578 0.01699342 0.01587636 0.01786295 0.00583812 0.01337819\n",
      " 0.02678415 0.01482021 0.0009132  0.0012082  0.01795673 0.01340259\n",
      " 0.00776693 0.00776353 0.01667425 0.01597183 0.01010426 0.01493533\n",
      " 0.00392336 0.00972577 0.01379109 0.00176108 0.00537308 0.01093097\n",
      " 0.00742718 0.00327125 0.00433752 0.00245794 0.00713821 0.00267686\n",
      " 0.00353104 0.01527833 0.00957285 0.00606857 0.00411642 0.0045294\n",
      " 0.00519674 0.00078845 0.00158281 0.00496847 0.00398513 0.00198104\n",
      " 0.00058736 0.0028563  0.00483778 0.00270031 0.00138111 0.00235397\n",
      " 0.00890912 0.00721415 0.00314237 0.00697905 0.00284244 0.0034636\n",
      " 0.00276053 0.00498275 0.0039698  0.00463179 0.00246245 0.0107446\n",
      " 0.00235422 0.00595037 0.00266644 0.0044113  0.00482199 0.00973125\n",
      " 0.0027118  0.00619768 0.00264074 0.00440044 0.00559214]\n"
     ]
    },
    {
     "data": {
      "image/png": "[encoded data removed]",
      "text/plain": [
       "<Figure size 432x288 with 1 Axes>"
      ]
     },
     "metadata": {
      "needs_background": "light"
     },
     "output_type": "display_data"
    }
   ],
   "source": [
    "print(best_model.best_estimator_.feature_importances_) #use inbuilt class feature_importances of tree based classifiers\n",
    "#plot graph of feature importances for better visualization\n",
    "feat_importances = pd.Series(best_model.best_estimator_.feature_importances_, index=X_train.columns)\n",
    "feat_importances.nlargest(10).plot(kind='barh')\n",
    "plt.show()"
   ]
  },
  {
   "cell_type": "markdown",
   "metadata": {},
   "source": [
    "Similar features like SSI Cash Assistance, Smoking, Male Sex, White Race etc have come up as the most important predictors in this model as the previous model with original data."
   ]
  },
  {
   "cell_type": "markdown",
   "metadata": {},
   "source": [
    "## Creating value through Machine Learning\n",
    "\n",
    "\n",
    "This could be a promising step in implementing machine learning to help predict serious mental illnesses. It should encourage healthcare practitioners to further investigate implementating such technologies to tackle gradually worsening mental health issues. As our models were trained on people who sought out care through the Office of Mental Health, we acknowledge that our work will best be used in providing people who seek help a swifter diagnosis."
   ]
  },
  {
   "cell_type": "markdown",
   "metadata": {},
   "source": [
    "We embarked on this project hoping to find people living with untreated serious mental illness living in New York State, but we quickly realized the limitations of our ambitions. Because this dataset is just of people who are receiving mental health services in New York State, we could only apply this model to people currently within the mental health system. So while we do think that our model could help pinpoint people particularly at risk of having a serious mental illness, we do not think this tool is appropriate to apply to the general population.\n",
    "\n",
    "While we learned a lot from this project, we’re trying to be realistic about how much value we are adding to this space. We do think its possible our model could be used to recognize Serious Mental Illness sooner for people who get mental health services. If the data is available, a future project may be able to do that with electronic health records to create a similar model that could be used for the general population. Because ultimately we think the most important work is still to come by identifying people who need help, but haven’t been able to ask for it yet.\n"
   ]
  }
 ],
 "metadata": {
  "kernelspec": {
   "display_name": "Python 3",
   "language": "python",
   "name": "python3"
  },
  "language_info": {
   "codemirror_mode": {
    "name": "ipython",
    "version": 3
   },
   "file_extension": ".py",
   "mimetype": "text/x-python",
   "name": "python",
   "nbconvert_exporter": "python",
   "pygments_lexer": "ipython3",
   "version": "3.7.4"
  }
 },
 "nbformat": 4,
 "nbformat_minor": 2
}
